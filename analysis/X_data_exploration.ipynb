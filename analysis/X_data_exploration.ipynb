{
 "cells": [
  {
   "cell_type": "code",
   "execution_count": 1,
   "id": "68de5c2f-4894-458a-9858-689ea4a11696",
   "metadata": {},
   "outputs": [],
   "source": [
    "import pandas as pd"
   ]
  },
  {
   "cell_type": "code",
   "execution_count": 2,
   "id": "b6574eda-4cfa-4c3b-a4a5-ec1658b78c8d",
   "metadata": {},
   "outputs": [
    {
     "name": "stdout",
     "output_type": "stream",
     "text": [
      "(84990, 39)\n"
     ]
    },
    {
     "data": {
      "text/html": [
       "<div>\n",
       "<style scoped>\n",
       "    .dataframe tbody tr th:only-of-type {\n",
       "        vertical-align: middle;\n",
       "    }\n",
       "\n",
       "    .dataframe tbody tr th {\n",
       "        vertical-align: top;\n",
       "    }\n",
       "\n",
       "    .dataframe thead th {\n",
       "        text-align: right;\n",
       "    }\n",
       "</style>\n",
       "<table border=\"1\" class=\"dataframe\">\n",
       "  <thead>\n",
       "    <tr style=\"text-align: right;\">\n",
       "      <th></th>\n",
       "      <th>id</th>\n",
       "      <th>title</th>\n",
       "      <th>abstract</th>\n",
       "      <th>publication_year</th>\n",
       "      <th>type</th>\n",
       "      <th>doi</th>\n",
       "      <th>INCLUDE</th>\n",
       "      <th>4 - 1. Economic instruments</th>\n",
       "      <th>4 - 2. Regulatory Instruments</th>\n",
       "      <th>4 - 3. Information, education and training</th>\n",
       "      <th>...</th>\n",
       "      <th>8 - 05. Transport</th>\n",
       "      <th>8 - 06. Waste</th>\n",
       "      <th>8 - 15. Cross-sectoral</th>\n",
       "      <th>10 - 3. Quantitative</th>\n",
       "      <th>10 - 4. Qualitative</th>\n",
       "      <th>17 - 0. Supranational and international</th>\n",
       "      <th>17 - 1. National</th>\n",
       "      <th>17 - 2. Sub-national</th>\n",
       "      <th>19 - 0. Ex-post</th>\n",
       "      <th>19 - 1. Ex-ante</th>\n",
       "    </tr>\n",
       "  </thead>\n",
       "  <tbody>\n",
       "    <tr>\n",
       "      <th>0</th>\n",
       "      <td>W999667810</td>\n",
       "      <td>Modelling Stand Dynamics after Selective Loggi...</td>\n",
       "      <td>Abstract: Forest degradation and biomass damag...</td>\n",
       "      <td>2012</td>\n",
       "      <td>None</td>\n",
       "      <td>None</td>\n",
       "      <td>0.870117</td>\n",
       "      <td>0.970215</td>\n",
       "      <td>0.000000</td>\n",
       "      <td>0.010002</td>\n",
       "      <td>...</td>\n",
       "      <td>0.020004</td>\n",
       "      <td>0.010002</td>\n",
       "      <td>0.029999</td>\n",
       "      <td>0.990234</td>\n",
       "      <td>0.000000</td>\n",
       "      <td>1.000000</td>\n",
       "      <td>0.449951</td>\n",
       "      <td>0.000000</td>\n",
       "      <td>0.080017</td>\n",
       "      <td>0.790039</td>\n",
       "    </tr>\n",
       "    <tr>\n",
       "      <th>1</th>\n",
       "      <td>W999644455</td>\n",
       "      <td>Mathematics, Politics, and Greenhouse Gas Inte...</td>\n",
       "      <td>While reading the newspaper one morning in spr...</td>\n",
       "      <td>2003</td>\n",
       "      <td>journal-article</td>\n",
       "      <td>https://doi.org/10.5951/mt.96.9.0646</td>\n",
       "      <td>0.979980</td>\n",
       "      <td>0.010002</td>\n",
       "      <td>0.059998</td>\n",
       "      <td>0.020004</td>\n",
       "      <td>...</td>\n",
       "      <td>0.010002</td>\n",
       "      <td>0.010002</td>\n",
       "      <td>0.939941</td>\n",
       "      <td>0.640137</td>\n",
       "      <td>0.239990</td>\n",
       "      <td>0.010002</td>\n",
       "      <td>0.779785</td>\n",
       "      <td>0.010002</td>\n",
       "      <td>0.959961</td>\n",
       "      <td>0.029999</td>\n",
       "    </tr>\n",
       "    <tr>\n",
       "      <th>2</th>\n",
       "      <td>W999485533</td>\n",
       "      <td>The Contribution of Rural Development Programm...</td>\n",
       "      <td>The Health Check reform, reinforcing the Commo...</td>\n",
       "      <td>2012</td>\n",
       "      <td>book-chapter</td>\n",
       "      <td>https://doi.org/10.1007/978-3-642-22266-5_23</td>\n",
       "      <td>0.990234</td>\n",
       "      <td>0.290039</td>\n",
       "      <td>0.439941</td>\n",
       "      <td>0.010002</td>\n",
       "      <td>...</td>\n",
       "      <td>0.010002</td>\n",
       "      <td>0.020004</td>\n",
       "      <td>0.049988</td>\n",
       "      <td>0.620117</td>\n",
       "      <td>0.239990</td>\n",
       "      <td>0.010002</td>\n",
       "      <td>1.000000</td>\n",
       "      <td>0.010002</td>\n",
       "      <td>0.970215</td>\n",
       "      <td>0.189941</td>\n",
       "    </tr>\n",
       "    <tr>\n",
       "      <th>3</th>\n",
       "      <td>W998914803</td>\n",
       "      <td>Negotiating greenhouse abatement and the theor...</td>\n",
       "      <td>The initial qualified commitment of Annex 1 co...</td>\n",
       "      <td>1999</td>\n",
       "      <td>book-chapter</td>\n",
       "      <td>https://doi.org/10.1007/978-94-015-9169-0_3</td>\n",
       "      <td>0.990234</td>\n",
       "      <td>0.939941</td>\n",
       "      <td>0.010002</td>\n",
       "      <td>0.010002</td>\n",
       "      <td>...</td>\n",
       "      <td>0.010002</td>\n",
       "      <td>0.010002</td>\n",
       "      <td>0.979980</td>\n",
       "      <td>0.529785</td>\n",
       "      <td>0.320068</td>\n",
       "      <td>1.000000</td>\n",
       "      <td>0.010002</td>\n",
       "      <td>0.000000</td>\n",
       "      <td>0.260010</td>\n",
       "      <td>0.990234</td>\n",
       "    </tr>\n",
       "    <tr>\n",
       "      <th>4</th>\n",
       "      <td>W998247206</td>\n",
       "      <td>Is the introduction of a carbon tax a ‘teachab...</td>\n",
       "      <td>With the arrival of the carbon tax earlier thi...</td>\n",
       "      <td>2012</td>\n",
       "      <td>None</td>\n",
       "      <td>None</td>\n",
       "      <td>0.990234</td>\n",
       "      <td>0.979980</td>\n",
       "      <td>0.010002</td>\n",
       "      <td>0.020004</td>\n",
       "      <td>...</td>\n",
       "      <td>0.000000</td>\n",
       "      <td>0.010002</td>\n",
       "      <td>0.589844</td>\n",
       "      <td>0.439941</td>\n",
       "      <td>0.439941</td>\n",
       "      <td>0.010002</td>\n",
       "      <td>0.010002</td>\n",
       "      <td>0.010002</td>\n",
       "      <td>0.010002</td>\n",
       "      <td>0.990234</td>\n",
       "    </tr>\n",
       "  </tbody>\n",
       "</table>\n",
       "<p>5 rows × 39 columns</p>\n",
       "</div>"
      ],
      "text/plain": [
       "           id                                              title  \\\n",
       "0  W999667810  Modelling Stand Dynamics after Selective Loggi...   \n",
       "1  W999644455  Mathematics, Politics, and Greenhouse Gas Inte...   \n",
       "2  W999485533  The Contribution of Rural Development Programm...   \n",
       "3  W998914803  Negotiating greenhouse abatement and the theor...   \n",
       "4  W998247206  Is the introduction of a carbon tax a ‘teachab...   \n",
       "\n",
       "                                            abstract  publication_year  \\\n",
       "0  Abstract: Forest degradation and biomass damag...              2012   \n",
       "1  While reading the newspaper one morning in spr...              2003   \n",
       "2  The Health Check reform, reinforcing the Commo...              2012   \n",
       "3  The initial qualified commitment of Annex 1 co...              1999   \n",
       "4  With the arrival of the carbon tax earlier thi...              2012   \n",
       "\n",
       "              type                                           doi   INCLUDE  \\\n",
       "0             None                                          None  0.870117   \n",
       "1  journal-article          https://doi.org/10.5951/mt.96.9.0646  0.979980   \n",
       "2     book-chapter  https://doi.org/10.1007/978-3-642-22266-5_23  0.990234   \n",
       "3     book-chapter   https://doi.org/10.1007/978-94-015-9169-0_3  0.990234   \n",
       "4             None                                          None  0.990234   \n",
       "\n",
       "   4 - 1. Economic instruments  4 - 2. Regulatory Instruments  \\\n",
       "0                     0.970215                       0.000000   \n",
       "1                     0.010002                       0.059998   \n",
       "2                     0.290039                       0.439941   \n",
       "3                     0.939941                       0.010002   \n",
       "4                     0.979980                       0.010002   \n",
       "\n",
       "   4 - 3. Information, education and training  ...  8 - 05. Transport  \\\n",
       "0                                    0.010002  ...           0.020004   \n",
       "1                                    0.020004  ...           0.010002   \n",
       "2                                    0.010002  ...           0.010002   \n",
       "3                                    0.010002  ...           0.010002   \n",
       "4                                    0.020004  ...           0.000000   \n",
       "\n",
       "   8 - 06. Waste  8 - 15. Cross-sectoral  10 - 3. Quantitative  \\\n",
       "0       0.010002                0.029999              0.990234   \n",
       "1       0.010002                0.939941              0.640137   \n",
       "2       0.020004                0.049988              0.620117   \n",
       "3       0.010002                0.979980              0.529785   \n",
       "4       0.010002                0.589844              0.439941   \n",
       "\n",
       "   10 - 4. Qualitative  17 - 0. Supranational and international  \\\n",
       "0             0.000000                                 1.000000   \n",
       "1             0.239990                                 0.010002   \n",
       "2             0.239990                                 0.010002   \n",
       "3             0.320068                                 1.000000   \n",
       "4             0.439941                                 0.010002   \n",
       "\n",
       "   17 - 1. National  17 - 2. Sub-national  19 - 0. Ex-post  19 - 1. Ex-ante  \n",
       "0          0.449951              0.000000         0.080017         0.790039  \n",
       "1          0.779785              0.010002         0.959961         0.029999  \n",
       "2          1.000000              0.010002         0.970215         0.189941  \n",
       "3          0.010002              0.000000         0.260010         0.990234  \n",
       "4          0.010002              0.010002         0.010002         0.990234  \n",
       "\n",
       "[5 rows x 39 columns]"
      ]
     },
     "execution_count": 2,
     "metadata": {},
     "output_type": "execute_result"
    }
   ],
   "source": [
    "df = pd.read_feather(\"../data/annotated_data.feather\")\n",
    "print(df.shape)\n",
    "df.head()"
   ]
  },
  {
   "cell_type": "code",
   "execution_count": 4,
   "id": "9f296ddd-1e48-4097-93aa-fb204e859b3a",
   "metadata": {},
   "outputs": [],
   "source": [
    "df.sample(10000).to_csv('../data/sample.csv')"
   ]
  },
  {
   "cell_type": "code",
   "execution_count": 3,
   "id": "77a24a06-9f2a-40a6-a389-33f773198f84",
   "metadata": {},
   "outputs": [
    {
     "data": {
      "text/plain": [
       "['id',\n",
       " 'title',\n",
       " 'abstract',\n",
       " 'publication_year',\n",
       " 'type',\n",
       " 'doi',\n",
       " 'INCLUDE',\n",
       " '4 - 1. Economic instruments',\n",
       " '4 - 2. Regulatory Instruments',\n",
       " '4 - 3. Information, education and training',\n",
       " '4 - 4. Governance, strategies and targets',\n",
       " '4 - 5. Agreements',\n",
       " '5 - 1.02. Carbon pricing',\n",
       " '5 - 1.02. Subsidies',\n",
       " '5 - 1.03. Non-carbon taxes',\n",
       " '5 - 1.04. Direct Investment / spending',\n",
       " '5 - 2.06. Quotas',\n",
       " '5 - 2.09. Spatial and land-use planning',\n",
       " '5 - 2.11. Standards',\n",
       " '5 - 3.15. Standardized labels, reporting and accounting standards and certification schemes',\n",
       " '5 - 4.17. Planning',\n",
       " '5 - 4.18. Government administration & management',\n",
       " '5 - 4.19. Institutions',\n",
       " '5 - 5.21. Inter/transnational agreements',\n",
       " '5 - 5.20. Inter/transnational agreements',\n",
       " '8 - 01. AFOLU',\n",
       " '8 - 02. Buildings',\n",
       " '8 - 03. Industry',\n",
       " '8 - 04. Energy',\n",
       " '8 - 05. Transport',\n",
       " '8 - 06. Waste',\n",
       " '8 - 15. Cross-sectoral',\n",
       " '10 - 3. Quantitative',\n",
       " '10 - 4. Qualitative',\n",
       " '17 - 0. Supranational and international',\n",
       " '17 - 1. National',\n",
       " '17 - 2. Sub-national',\n",
       " '19 - 0. Ex-post',\n",
       " '19 - 1. Ex-ante']"
      ]
     },
     "execution_count": 3,
     "metadata": {},
     "output_type": "execute_result"
    }
   ],
   "source": [
    "list(df.columns)"
   ]
  },
  {
   "cell_type": "code",
   "execution_count": 5,
   "id": "649d18ae-f984-45c4-a486-2c21cead04c3",
   "metadata": {},
   "outputs": [
    {
     "data": {
      "text/plain": [
       "(2900, 39)"
      ]
     },
     "execution_count": 5,
     "metadata": {},
     "output_type": "execute_result"
    }
   ],
   "source": [
    "df[\n",
    "    (df['8 - 03. Industry']>=0.5) & \n",
    "    (df['19 - 0. Ex-post']>=0.5)\n",
    "].shape"
   ]
  },
  {
   "cell_type": "code",
   "execution_count": 10,
   "id": "79aaba66-96fb-4d0d-9fe0-2e4d657dfdea",
   "metadata": {},
   "outputs": [],
   "source": [
    "df[\n",
    "    (\n",
    "        (df['8 - 03. Industry']>=0.5) | \n",
    "        (df['8 - 04. Energy']>=0.5)\n",
    "    ) & \n",
    "    (df['19 - 0. Ex-post']>=0.5)\n",
    "].to_csv('../data/industry_energy.csv', index=False)"
   ]
  },
  {
   "cell_type": "code",
   "execution_count": 3,
   "id": "244aaaf7-a08e-4a49-a736-55cdd5ef8af8",
   "metadata": {},
   "outputs": [],
   "source": [
    "df['ta'] = df['title'] + \" \" + df['abstract']"
   ]
  },
  {
   "cell_type": "code",
   "execution_count": 14,
   "id": "cd4fc285-099d-40cd-b907-71a07e9669f2",
   "metadata": {},
   "outputs": [
    {
     "name": "stderr",
     "output_type": "stream",
     "text": [
      "/tmp/ipykernel_1006034/3690226042.py:5: UserWarning: This pattern is interpreted as a regular expression, and has match groups. To actually get the groups, use str.extract.\n",
      "  sub_df = df[df[\"ta\"].str.lower().str.contains(q)]\n"
     ]
    },
    {
     "name": "stdout",
     "output_type": "stream",
     "text": [
      "(281, 40)\n"
     ]
    },
    {
     "data": {
      "text/html": [
       "<div>\n",
       "<style scoped>\n",
       "    .dataframe tbody tr th:only-of-type {\n",
       "        vertical-align: middle;\n",
       "    }\n",
       "\n",
       "    .dataframe tbody tr th {\n",
       "        vertical-align: top;\n",
       "    }\n",
       "\n",
       "    .dataframe thead th {\n",
       "        text-align: right;\n",
       "    }\n",
       "</style>\n",
       "<table border=\"1\" class=\"dataframe\">\n",
       "  <thead>\n",
       "    <tr style=\"text-align: right;\">\n",
       "      <th></th>\n",
       "      <th>id</th>\n",
       "      <th>title</th>\n",
       "      <th>abstract</th>\n",
       "      <th>publication_year</th>\n",
       "      <th>type</th>\n",
       "      <th>doi</th>\n",
       "      <th>INCLUDE</th>\n",
       "      <th>4 - 1. Economic instruments</th>\n",
       "      <th>4 - 2. Regulatory Instruments</th>\n",
       "      <th>4 - 3. Information, education and training</th>\n",
       "      <th>...</th>\n",
       "      <th>8 - 06. Waste</th>\n",
       "      <th>8 - 15. Cross-sectoral</th>\n",
       "      <th>10 - 3. Quantitative</th>\n",
       "      <th>10 - 4. Qualitative</th>\n",
       "      <th>17 - 0. Supranational and international</th>\n",
       "      <th>17 - 1. National</th>\n",
       "      <th>17 - 2. Sub-national</th>\n",
       "      <th>19 - 0. Ex-post</th>\n",
       "      <th>19 - 1. Ex-ante</th>\n",
       "      <th>ta</th>\n",
       "    </tr>\n",
       "  </thead>\n",
       "  <tbody>\n",
       "    <tr>\n",
       "      <th>444</th>\n",
       "      <td>W852460849</td>\n",
       "      <td>Drivers of deforestation and REDD+ benefit-sha...</td>\n",
       "      <td>REDD+ (reducing emissions from deforestation a...</td>\n",
       "      <td>2015</td>\n",
       "      <td>journal-article</td>\n",
       "      <td>https://doi.org/10.1016/j.envsci.2015.06.017</td>\n",
       "      <td>0.990234</td>\n",
       "      <td>0.919922</td>\n",
       "      <td>0.010002</td>\n",
       "      <td>0.020004</td>\n",
       "      <td>...</td>\n",
       "      <td>0.020004</td>\n",
       "      <td>0.049988</td>\n",
       "      <td>0.020004</td>\n",
       "      <td>0.979980</td>\n",
       "      <td>1.000000</td>\n",
       "      <td>0.020004</td>\n",
       "      <td>0.029999</td>\n",
       "      <td>0.979980</td>\n",
       "      <td>0.819824</td>\n",
       "      <td>Drivers of deforestation and REDD+ benefit-sha...</td>\n",
       "    </tr>\n",
       "    <tr>\n",
       "      <th>491</th>\n",
       "      <td>W842328916</td>\n",
       "      <td>What do adaptation aid actions look like? The ...</td>\n",
       "      <td>Evidence that adaptation is necessary to manag...</td>\n",
       "      <td>2013</td>\n",
       "      <td>None</td>\n",
       "      <td>None</td>\n",
       "      <td>0.799805</td>\n",
       "      <td>0.959961</td>\n",
       "      <td>0.000000</td>\n",
       "      <td>0.029999</td>\n",
       "      <td>...</td>\n",
       "      <td>0.010002</td>\n",
       "      <td>0.979980</td>\n",
       "      <td>0.160034</td>\n",
       "      <td>0.799805</td>\n",
       "      <td>1.000000</td>\n",
       "      <td>0.040009</td>\n",
       "      <td>0.000000</td>\n",
       "      <td>0.990234</td>\n",
       "      <td>0.020004</td>\n",
       "      <td>What do adaptation aid actions look like? The ...</td>\n",
       "    </tr>\n",
       "    <tr>\n",
       "      <th>737</th>\n",
       "      <td>W784444221</td>\n",
       "      <td>Questioning the sustainability of Biodiesel: F...</td>\n",
       "      <td>Biofuels contribute to the mitigation of clima...</td>\n",
       "      <td>2005</td>\n",
       "      <td>posted-content</td>\n",
       "      <td>None</td>\n",
       "      <td>0.990234</td>\n",
       "      <td>0.059998</td>\n",
       "      <td>0.629883</td>\n",
       "      <td>0.000000</td>\n",
       "      <td>...</td>\n",
       "      <td>0.029999</td>\n",
       "      <td>0.010002</td>\n",
       "      <td>0.859863</td>\n",
       "      <td>0.059998</td>\n",
       "      <td>0.990234</td>\n",
       "      <td>0.000000</td>\n",
       "      <td>0.010002</td>\n",
       "      <td>0.990234</td>\n",
       "      <td>0.099976</td>\n",
       "      <td>Questioning the sustainability of Biodiesel: F...</td>\n",
       "    </tr>\n",
       "    <tr>\n",
       "      <th>754</th>\n",
       "      <td>W781228872</td>\n",
       "      <td>Explaining the variation in the value of build...</td>\n",
       "      <td>The built environment has been identified as o...</td>\n",
       "      <td>2014</td>\n",
       "      <td>posted-content</td>\n",
       "      <td>None</td>\n",
       "      <td>1.000000</td>\n",
       "      <td>0.130005</td>\n",
       "      <td>1.000000</td>\n",
       "      <td>0.090027</td>\n",
       "      <td>...</td>\n",
       "      <td>0.029999</td>\n",
       "      <td>0.020004</td>\n",
       "      <td>0.979980</td>\n",
       "      <td>0.010002</td>\n",
       "      <td>1.000000</td>\n",
       "      <td>0.449951</td>\n",
       "      <td>0.000000</td>\n",
       "      <td>0.899902</td>\n",
       "      <td>0.099976</td>\n",
       "      <td>Explaining the variation in the value of build...</td>\n",
       "    </tr>\n",
       "    <tr>\n",
       "      <th>2431</th>\n",
       "      <td>W567044335</td>\n",
       "      <td>Empirical Modeling of the Economy and the Envi...</td>\n",
       "      <td>C. B?hringer, A. L?schel: Introduction.- D.L. ...</td>\n",
       "      <td>2003</td>\n",
       "      <td>book</td>\n",
       "      <td>https://doi.org/10.1007/978-3-642-57415-3</td>\n",
       "      <td>0.990234</td>\n",
       "      <td>0.990234</td>\n",
       "      <td>0.080017</td>\n",
       "      <td>0.020004</td>\n",
       "      <td>...</td>\n",
       "      <td>0.010002</td>\n",
       "      <td>0.970215</td>\n",
       "      <td>0.990234</td>\n",
       "      <td>0.000000</td>\n",
       "      <td>0.990234</td>\n",
       "      <td>0.010002</td>\n",
       "      <td>0.010002</td>\n",
       "      <td>0.729980</td>\n",
       "      <td>0.379883</td>\n",
       "      <td>Empirical Modeling of the Economy and the Envi...</td>\n",
       "    </tr>\n",
       "  </tbody>\n",
       "</table>\n",
       "<p>5 rows × 40 columns</p>\n",
       "</div>"
      ],
      "text/plain": [
       "              id                                              title   \n",
       "444   W852460849  Drivers of deforestation and REDD+ benefit-sha...  \\\n",
       "491   W842328916  What do adaptation aid actions look like? The ...   \n",
       "737   W784444221  Questioning the sustainability of Biodiesel: F...   \n",
       "754   W781228872  Explaining the variation in the value of build...   \n",
       "2431  W567044335  Empirical Modeling of the Economy and the Envi...   \n",
       "\n",
       "                                               abstract  publication_year   \n",
       "444   REDD+ (reducing emissions from deforestation a...              2015  \\\n",
       "491   Evidence that adaptation is necessary to manag...              2013   \n",
       "737   Biofuels contribute to the mitigation of clima...              2005   \n",
       "754   The built environment has been identified as o...              2014   \n",
       "2431  C. B?hringer, A. L?schel: Introduction.- D.L. ...              2003   \n",
       "\n",
       "                 type                                           doi   INCLUDE   \n",
       "444   journal-article  https://doi.org/10.1016/j.envsci.2015.06.017  0.990234  \\\n",
       "491              None                                          None  0.799805   \n",
       "737    posted-content                                          None  0.990234   \n",
       "754    posted-content                                          None  1.000000   \n",
       "2431             book     https://doi.org/10.1007/978-3-642-57415-3  0.990234   \n",
       "\n",
       "      4 - 1. Economic instruments  4 - 2. Regulatory Instruments   \n",
       "444                      0.919922                       0.010002  \\\n",
       "491                      0.959961                       0.000000   \n",
       "737                      0.059998                       0.629883   \n",
       "754                      0.130005                       1.000000   \n",
       "2431                     0.990234                       0.080017   \n",
       "\n",
       "      4 - 3. Information, education and training  ...  8 - 06. Waste   \n",
       "444                                     0.020004  ...       0.020004  \\\n",
       "491                                     0.029999  ...       0.010002   \n",
       "737                                     0.000000  ...       0.029999   \n",
       "754                                     0.090027  ...       0.029999   \n",
       "2431                                    0.020004  ...       0.010002   \n",
       "\n",
       "      8 - 15. Cross-sectoral  10 - 3. Quantitative  10 - 4. Qualitative   \n",
       "444                 0.049988              0.020004             0.979980  \\\n",
       "491                 0.979980              0.160034             0.799805   \n",
       "737                 0.010002              0.859863             0.059998   \n",
       "754                 0.020004              0.979980             0.010002   \n",
       "2431                0.970215              0.990234             0.000000   \n",
       "\n",
       "      17 - 0. Supranational and international  17 - 1. National   \n",
       "444                                  1.000000          0.020004  \\\n",
       "491                                  1.000000          0.040009   \n",
       "737                                  0.990234          0.000000   \n",
       "754                                  1.000000          0.449951   \n",
       "2431                                 0.990234          0.010002   \n",
       "\n",
       "      17 - 2. Sub-national  19 - 0. Ex-post  19 - 1. Ex-ante   \n",
       "444               0.029999         0.979980         0.819824  \\\n",
       "491               0.000000         0.990234         0.020004   \n",
       "737               0.010002         0.990234         0.099976   \n",
       "754               0.000000         0.899902         0.099976   \n",
       "2431              0.010002         0.729980         0.379883   \n",
       "\n",
       "                                                     ta  \n",
       "444   Drivers of deforestation and REDD+ benefit-sha...  \n",
       "491   What do adaptation aid actions look like? The ...  \n",
       "737   Questioning the sustainability of Biodiesel: F...  \n",
       "754   Explaining the variation in the value of build...  \n",
       "2431  Empirical Modeling of the Economy and the Envi...  \n",
       "\n",
       "[5 rows x 40 columns]"
      ]
     },
     "execution_count": 14,
     "metadata": {},
     "output_type": "execute_result"
    }
   ],
   "source": [
    "q = \"public acceptance|public perception|public opinion\"\n",
    "rv_string = '''“systematic review” OR “scoping review” OR “narrative review” OR “meta-analysis” OR “evidence synthesis” OR “meta-review” OR “evidence map” OR “rapid review” OR “umbrella review” OR “qualitative synthesis” OR “configurative review” OR “aggregative review” OR “thematic synthesis” OR “framework synthesis” OR “mapping review” OR “meta-synthesis” OR “qualitative evidence synthesis” OR “critical review” OR “integrative review” OR “integrative synthesis” OR “narrative summary” OR “state of the art review” OR “rapid evidence assessment” OR “qualitative research synthesis” OR “qualitative meta-summary” OR “meta-ethnography” OR “meta-narrative review” OR “mixed methods synthesis” OR “scoping study” OR “systematic map\"'''\n",
    "rv_string = '''“systematic review” OR “systematic map” OR “meta-analysis”'''\n",
    "q = rv_string.replace('“','(').replace('”',')').replace('\"',')').replace(' OR ','|')\n",
    "sub_df = df[df[\"ta\"].str.lower().str.contains(q)]\n",
    "sub_df.to_csv('../data/reviews.csv', index=False)\n",
    "#sub_df.to_csv(\"../data/attitudes.csv\")\n",
    "print(sub_df.shape)\n",
    "sub_df.head()\n"
   ]
  },
  {
   "cell_type": "code",
   "execution_count": 16,
   "id": "9176a57d-1574-46aa-8983-2c31624d4344",
   "metadata": {},
   "outputs": [],
   "source": []
  },
  {
   "cell_type": "code",
   "execution_count": 15,
   "id": "18ec549b-07e5-4ced-8030-c9e671edc3e6",
   "metadata": {},
   "outputs": [
    {
     "name": "stdout",
     "output_type": "stream",
     "text": [
      "0\n",
      "0.0033062713260383573\n"
     ]
    },
    {
     "data": {
      "text/plain": [
       "Text(0.5, 1.0, 'Systematic review, mapping, \\nand meta-analytic studies: 281')"
      ]
     },
     "execution_count": 15,
     "metadata": {},
     "output_type": "execute_result"
    },
    {
     "data": {
      "image/png": "[encoded data removed]",
      "text/plain": [
       "<Figure size 576x288 with 2 Axes>"
      ]
     },
     "metadata": {
      "needs_background": "light"
     },
     "output_type": "display_data"
    }
   ],
   "source": [
    "from matplotlib.collections import PatchCollection\n",
    "from matplotlib.patches import Rectangle\n",
    "\n",
    "fig, axs = plt.subplots(1,2, figsize=(8,4))\n",
    "\n",
    "n1 = df.shape[0]\n",
    "n2 = sub_df.shape[0]\n",
    "n2_share = n2/n1\n",
    "\n",
    "ax = axs[0]\n",
    "\n",
    "ax.axis('off')\n",
    "\n",
    "rects = [\n",
    "    Rectangle((x%10*0.1+0.01,x//10*0.1+0.01),0.08,0.08) for x in range(100)\n",
    "]\n",
    "\n",
    "pc = PatchCollection(rects, facecolor='C0', alpha=0.5,\n",
    "                         edgecolor='black')\n",
    "\n",
    "ax.add_collection(pc)\n",
    "\n",
    "ax.set_title(f'All studies: {n1:,}')\n",
    "\n",
    "ax = axs[1]\n",
    "\n",
    "rects = []\n",
    "for x in range(100):\n",
    "    if n2_share > x*0.01:\n",
    "        print(x)\n",
    "        \n",
    "        diff = n2_share - x*0.01\n",
    "        print(diff)\n",
    "        if diff < 0.01:\n",
    "            width = 0.08*diff*100\n",
    "        else:\n",
    "            width = 0.08\n",
    "        rects.append(Rectangle(\n",
    "            (x%10*0.1+0.01,x//10*0.01+0.01), width, 0.08\n",
    "        ))\n",
    "        \n",
    "    else:\n",
    "        ax.text(\n",
    "            x%10*0.1+0.01 - 0.08-width,\n",
    "            x//10*0.01+0.11,\n",
    "            f'{n2_share:.2%}'\n",
    "        )\n",
    "        break\n",
    "        \n",
    "        \n",
    "pc = PatchCollection(rects, facecolor='C1', alpha=0.5,\n",
    "                         edgecolor='black')\n",
    "\n",
    "ax.add_collection(pc)\n",
    "\n",
    "ax = axs[1]\n",
    "ax.axis('off')\n",
    "ax.set_title(f'Systematic review, mapping, \\nand meta-analytic studies: {n2:,}')\n",
    "\n",
    "\n",
    "\n",
    "#fig.tight_layout()"
   ]
  },
  {
   "cell_type": "code",
   "execution_count": 7,
   "id": "b5d76a88-b66d-4bcc-884a-17e9f95e9431",
   "metadata": {},
   "outputs": [
    {
     "data": {
      "image/png": "[encoded data removed]",
      "text/plain": [
       "<Figure size 432x288 with 1 Axes>"
      ]
     },
     "metadata": {
      "needs_background": "light"
     },
     "output_type": "display_data"
    }
   ],
   "source": [
    "from matplotlib import ticker\n",
    "\n",
    "\n",
    "cats = [x for x in df.columns if '4 -' in x]\n",
    "fig, ax = plt.subplots()\n",
    "\n",
    "for i, c in enumerate(cats):\n",
    "    c_n = df[df[c]>=0.5].shape[0]\n",
    "    c_s = sub_df[sub_df[c]>=0.5].shape[0] / c_n\n",
    "    \n",
    "    ax.barh(i, c_s, color='#FFBE86', alpha=1, edgecolor='black', zorder=5)\n",
    "    \n",
    "    ax.set_yticks(range(len(cats)))\n",
    "    ax.set_yticklabels([x.split(' - ')[1] for x in cats])\n",
    "    \n",
    "ax.set_xlabel('Review share of literature')\n",
    "ax.xaxis.set_major_formatter(ticker.PercentFormatter(xmax=1))\n",
    "ax.grid(axis='x', zorder=-5)"
   ]
  },
  {
   "cell_type": "code",
   "execution_count": 9,
   "id": "1d8ee62f-81d3-43ef-8121-3980ac2788f8",
   "metadata": {},
   "outputs": [
    {
     "data": {
      "image/png": "[encoded data removed]",
      "text/plain": [
       "<Figure size 432x288 with 1 Axes>"
      ]
     },
     "metadata": {
      "needs_background": "light"
     },
     "output_type": "display_data"
    }
   ],
   "source": [
    "from matplotlib import ticker\n",
    "\n",
    "\n",
    "cats = [x for x in df.columns if '8 -' in x]\n",
    "fig, ax = plt.subplots()\n",
    "\n",
    "for i, c in enumerate(cats):\n",
    "    c_n = df[df[c]>=0.5].shape[0]\n",
    "    c_s = sub_df[sub_df[c]>=0.5].shape[0] / c_n\n",
    "    \n",
    "    ax.barh(i, c_s, color='#FFBE86', alpha=1, edgecolor='black', zorder=5)\n",
    "    \n",
    "    ax.set_yticks(range(len(cats)))\n",
    "    ax.set_yticklabels([x.split(' - ')[1] for x in cats])\n",
    "    \n",
    "ax.set_xlabel('Review share of literature')\n",
    "ax.xaxis.set_major_formatter(ticker.PercentFormatter(xmax=1))\n",
    "ax.grid(axis='x', zorder=-5)"
   ]
  },
  {
   "cell_type": "code",
   "execution_count": 5,
   "id": "482b4758-26db-4017-a41a-9b84ecc029c7",
   "metadata": {},
   "outputs": [
    {
     "data": {
      "text/plain": [
       "<matplotlib.legend.Legend at 0x7f63e4b777c0>"
      ]
     },
     "execution_count": 5,
     "metadata": {},
     "output_type": "execute_result"
    },
    {
     "data": {
      "image/png": "[encoded data removed]",
      "text/plain": [
       "<Figure size 432x288 with 1 Axes>"
      ]
     },
     "metadata": {
      "needs_background": "light"
     },
     "output_type": "display_data"
    }
   ],
   "source": [
    "import re\n",
    "import matplotlib.pyplot as plt\n",
    "sectors = [x for x in df.columns if re.match(\"^8\",x)]\n",
    "sdf = []\n",
    "for s in sectors:\n",
    "    sdf.append({\n",
    "        \"sector\": s,\n",
    "        \"total\": df[df[s]>0.5].shape[0],\n",
    "        \"query\": sub_df[sub_df[s]>0.5].shape[0]\n",
    "    })\n",
    "sdf = pd.DataFrame.from_dict(sdf)\n",
    "sdf[\"total_share\"] = sdf[\"total\"] / df.shape[0]\n",
    "sdf[\"query_share\"] = sdf[\"query\"] / sub_df.shape[0]\n",
    "fig, ax = plt.subplots()\n",
    "\n",
    "ax.barh(sdf.index+0.2, sdf[\"total_share\"], height=0.4, label=\"Total\")\n",
    "ax.barh(sdf.index-0.2, sdf[\"query_share\"], height=0.4, label=\"Reviews\")\n",
    "ax.set_yticks(range(len(sdf[\"sector\"])))\n",
    "ax.set_yticklabels(sdf[\"sector\"])\n",
    "ax.set_title(\"Share of literature\")\n",
    "ax.legend()"
   ]
  },
  {
   "cell_type": "code",
   "execution_count": 24,
   "id": "dbb8498b-75c0-495b-8e07-3d74bef0e537",
   "metadata": {},
   "outputs": [
    {
     "data": {
      "text/plain": [
       "<matplotlib.legend.Legend at 0x7f09deea0730>"
      ]
     },
     "execution_count": 24,
     "metadata": {},
     "output_type": "execute_result"
    },
    {
     "data": {
      "image/png": "[encoded data removed]",
      "text/plain": [
       "<Figure size 432x288 with 1 Axes>"
      ]
     },
     "metadata": {
      "needs_background": "light"
     },
     "output_type": "display_data"
    }
   ],
   "source": [
    "import re\n",
    "import matplotlib.pyplot as plt\n",
    "sectors = [x for x in df.columns if re.match(\"^8\",x)]\n",
    "sdf = []\n",
    "for s in sectors:\n",
    "    sdf.append({\n",
    "        \"sector\": s,\n",
    "        \"total\": df[df[s]>0.5].shape[0],\n",
    "        \"query\": sub_df[sub_df[s]>0.5].shape[0]\n",
    "    })\n",
    "sdf = pd.DataFrame.from_dict(sdf)\n",
    "sdf[\"total_share\"] = sdf[\"total\"] / df.shape[0]\n",
    "sdf[\"query_share\"] = sdf[\"query\"] / sub_df.shape[0]\n",
    "fig, ax = plt.subplots()\n",
    "\n",
    "ax.barh(sdf.index+0.2, sdf[\"total_share\"], height=0.4, label=\"Total\")\n",
    "ax.barh(sdf.index-0.2, sdf[\"query_share\"], height=0.4, label=\"Perceptions\")\n",
    "ax.set_yticks(range(len(sdf[\"sector\"])))\n",
    "ax.set_yticklabels(sdf[\"sector\"])\n",
    "ax.set_title(\"Share of literature\")\n",
    "ax.legend()"
   ]
  },
  {
   "cell_type": "code",
   "execution_count": 25,
   "id": "57a341ee-8ecd-4668-b663-db967787b207",
   "metadata": {},
   "outputs": [
    {
     "data": {
      "text/plain": [
       "<matplotlib.legend.Legend at 0x7f09df518dc0>"
      ]
     },
     "execution_count": 25,
     "metadata": {},
     "output_type": "execute_result"
    },
    {
     "data": {
      "image/png": "[encoded data removed]",
      "text/plain": [
       "<Figure size 432x288 with 1 Axes>"
      ]
     },
     "metadata": {
      "needs_background": "light"
     },
     "output_type": "display_data"
    }
   ],
   "source": [
    "import re\n",
    "import matplotlib.pyplot as plt\n",
    "sectors = [x for x in df.columns if re.match(\"^4\",x)]\n",
    "sdf = []\n",
    "for s in sectors:\n",
    "    sdf.append({\n",
    "        \"sector\": s,\n",
    "        \"total\": df[df[s]>0.5].shape[0],\n",
    "        \"query\": sub_df[sub_df[s]>0.5].shape[0]\n",
    "    })\n",
    "sdf = pd.DataFrame.from_dict(sdf)\n",
    "sdf[\"total_share\"] = sdf[\"total\"] / df.shape[0]\n",
    "sdf[\"query_share\"] = sdf[\"query\"] / sub_df.shape[0]\n",
    "fig, ax = plt.subplots()\n",
    "\n",
    "ax.barh(sdf.index+0.2, sdf[\"total_share\"], height=0.4, label=\"Total\")\n",
    "ax.barh(sdf.index-0.2, sdf[\"query_share\"], height=0.4, label=\"Perceptions\")\n",
    "ax.set_yticks(range(len(sdf[\"sector\"])))\n",
    "ax.set_yticklabels(sdf[\"sector\"])\n",
    "ax.set_title(\"Share of literature\")\n",
    "ax.legend()"
   ]
  }
 ],
 "metadata": {
  "kernelspec": {
   "display_name": "Python 3 (ipykernel)",
   "language": "python",
   "name": "python3"
  },
  "language_info": {
   "codemirror_mode": {
    "name": "ipython",
    "version": 3
   },
   "file_extension": ".py",
   "mimetype": "text/x-python",
   "name": "python",
   "nbconvert_exporter": "python",
   "pygments_lexer": "ipython3",
   "version": "3.10.12"
  }
 },
 "nbformat": 4,
 "nbformat_minor": 5
}
