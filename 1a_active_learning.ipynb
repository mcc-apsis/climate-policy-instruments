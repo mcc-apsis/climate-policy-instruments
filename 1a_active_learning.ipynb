{
 "cells": [
  {
   "cell_type": "code",
   "execution_count": 5,
   "metadata": {},
   "outputs": [],
   "source": [
    "import os.path\n",
    "import sys\n",
    "import django\n",
    "sys.path.append('/home/galm/software/django/tmv/BasicBrowser')\n",
    "sys.path.append('/home/max/software/django-tmv/tmv_mcc-apsis/BasicBrowser')\n",
    "os.environ.setdefault(\"DJANGO_SETTINGS_MODULE\", \"BasicBrowser.settings\")\n",
    "django.setup()\n",
    "import scoping\n",
    "from scoping.models import *\n",
    "from utils.text import *\n",
    "\n",
    "from sklearn.feature_extraction.text import CountVectorizer, TfidfVectorizer, TfidfTransformer\n",
    "from sklearn.metrics import f1_score, precision_score, recall_score, roc_auc_score, accuracy_score\n",
    "from sklearn.svm import SVC\n",
    "\n",
    "import pandas as pd\n",
    "import numpy as np\n",
    "\n",
    "import pickle\n",
    "import scipy.sparse\n",
    "\n",
    "import matplotlib.pyplot as plt"
   ]
  },
  {
   "cell_type": "code",
   "execution_count": 6,
   "metadata": {},
   "outputs": [
    {
     "name": "stdout",
     "output_type": "stream",
     "text": [
      "(531160, 108)\n"
     ]
    },
    {
     "data": {
      "text/html": [
       "<div>\n",
       "<style scoped>\n",
       "    .dataframe tbody tr th:only-of-type {\n",
       "        vertical-align: middle;\n",
       "    }\n",
       "\n",
       "    .dataframe tbody tr th {\n",
       "        vertical-align: top;\n",
       "    }\n",
       "\n",
       "    .dataframe thead th {\n",
       "        text-align: right;\n",
       "    }\n",
       "</style>\n",
       "<table border=\"1\" class=\"dataframe\">\n",
       "  <thead>\n",
       "    <tr style=\"text-align: right;\">\n",
       "      <th></th>\n",
       "      <th>id</th>\n",
       "      <th>title</th>\n",
       "      <th>content</th>\n",
       "      <th>0 - relevant</th>\n",
       "      <th>10 - 3. Quantitative</th>\n",
       "      <th>10 - 4. Qualitative</th>\n",
       "      <th>11 - countries</th>\n",
       "      <th>12 - policy name</th>\n",
       "      <th>2 - 0. Mitigation</th>\n",
       "      <th>2 - 1. Adaptation</th>\n",
       "      <th>...</th>\n",
       "      <th>8 - 15. Cross-sectoral</th>\n",
       "      <th>9 - 0. Ex-post</th>\n",
       "      <th>9 - 1. Ex-ante</th>\n",
       "      <th>9 - 2. Ex-ante (IAM)</th>\n",
       "      <th>INCLUDE</th>\n",
       "      <th>random</th>\n",
       "      <th>seen</th>\n",
       "      <th>wosarticle__de</th>\n",
       "      <th>wosarticle__wc</th>\n",
       "      <th>relevant</th>\n",
       "    </tr>\n",
       "  </thead>\n",
       "  <tbody>\n",
       "    <tr>\n",
       "      <th>0</th>\n",
       "      <td>810762</td>\n",
       "      <td>A remote sensing-based model of tidal marsh ab...</td>\n",
       "      <td>Remote sensing based maps of tidal marshes, bo...</td>\n",
       "      <td>NaN</td>\n",
       "      <td>NaN</td>\n",
       "      <td>NaN</td>\n",
       "      <td>NaN</td>\n",
       "      <td>NaN</td>\n",
       "      <td>NaN</td>\n",
       "      <td>NaN</td>\n",
       "      <td>...</td>\n",
       "      <td>NaN</td>\n",
       "      <td>NaN</td>\n",
       "      <td>NaN</td>\n",
       "      <td>NaN</td>\n",
       "      <td>NaN</td>\n",
       "      <td>0</td>\n",
       "      <td>0</td>\n",
       "      <td>Tidal marsh biomass; Aboveground carbon stocks...</td>\n",
       "      <td>['Geography, Physical; Geosciences, Multidisci...</td>\n",
       "      <td>0.0</td>\n",
       "    </tr>\n",
       "    <tr>\n",
       "      <th>1</th>\n",
       "      <td>637462</td>\n",
       "      <td>Effects of biodiesel from used frying palm oil...</td>\n",
       "      <td>In our previous paper, the influences of biodi...</td>\n",
       "      <td>NaN</td>\n",
       "      <td>NaN</td>\n",
       "      <td>NaN</td>\n",
       "      <td>NaN</td>\n",
       "      <td>NaN</td>\n",
       "      <td>NaN</td>\n",
       "      <td>NaN</td>\n",
       "      <td>...</td>\n",
       "      <td>NaN</td>\n",
       "      <td>NaN</td>\n",
       "      <td>NaN</td>\n",
       "      <td>NaN</td>\n",
       "      <td>NaN</td>\n",
       "      <td>0</td>\n",
       "      <td>0</td>\n",
       "      <td>NaN</td>\n",
       "      <td>['Energy &amp; Fuels; Engineering, Chemical']</td>\n",
       "      <td>0.0</td>\n",
       "    </tr>\n",
       "    <tr>\n",
       "      <th>2</th>\n",
       "      <td>407101</td>\n",
       "      <td>Networks in Plant Epidemiology: From Genes to ...</td>\n",
       "      <td>There is increasing use of networks in ecology...</td>\n",
       "      <td>NaN</td>\n",
       "      <td>NaN</td>\n",
       "      <td>NaN</td>\n",
       "      <td>NaN</td>\n",
       "      <td>NaN</td>\n",
       "      <td>NaN</td>\n",
       "      <td>NaN</td>\n",
       "      <td>...</td>\n",
       "      <td>NaN</td>\n",
       "      <td>NaN</td>\n",
       "      <td>NaN</td>\n",
       "      <td>NaN</td>\n",
       "      <td>NaN</td>\n",
       "      <td>0</td>\n",
       "      <td>0</td>\n",
       "      <td>biodiversity; complexity and stability; modeli...</td>\n",
       "      <td>['Plant Sciences']</td>\n",
       "      <td>0.0</td>\n",
       "    </tr>\n",
       "    <tr>\n",
       "      <th>3</th>\n",
       "      <td>1554608</td>\n",
       "      <td>Objective calibration of numerical weather pre...</td>\n",
       "      <td>Numerical weather prediction (NWP) and climate...</td>\n",
       "      <td>NaN</td>\n",
       "      <td>NaN</td>\n",
       "      <td>NaN</td>\n",
       "      <td>NaN</td>\n",
       "      <td>NaN</td>\n",
       "      <td>NaN</td>\n",
       "      <td>NaN</td>\n",
       "      <td>...</td>\n",
       "      <td>NaN</td>\n",
       "      <td>NaN</td>\n",
       "      <td>NaN</td>\n",
       "      <td>NaN</td>\n",
       "      <td>NaN</td>\n",
       "      <td>0</td>\n",
       "      <td>0</td>\n",
       "      <td>Modelling; Calibration; Numerical weather pred...</td>\n",
       "      <td>['Meteorology &amp; Atmospheric Sciences']</td>\n",
       "      <td>0.0</td>\n",
       "    </tr>\n",
       "    <tr>\n",
       "      <th>4</th>\n",
       "      <td>316145</td>\n",
       "      <td>Using climate models to estimate the quality o...</td>\n",
       "      <td>Observational estimates of the climate system ...</td>\n",
       "      <td>NaN</td>\n",
       "      <td>NaN</td>\n",
       "      <td>NaN</td>\n",
       "      <td>NaN</td>\n",
       "      <td>NaN</td>\n",
       "      <td>NaN</td>\n",
       "      <td>NaN</td>\n",
       "      <td>...</td>\n",
       "      <td>NaN</td>\n",
       "      <td>NaN</td>\n",
       "      <td>NaN</td>\n",
       "      <td>NaN</td>\n",
       "      <td>NaN</td>\n",
       "      <td>0</td>\n",
       "      <td>0</td>\n",
       "      <td>NaN</td>\n",
       "      <td>['Multidisciplinary Sciences']</td>\n",
       "      <td>0.0</td>\n",
       "    </tr>\n",
       "  </tbody>\n",
       "</table>\n",
       "<p>5 rows × 108 columns</p>\n",
       "</div>"
      ],
      "text/plain": [
       "        id                                              title  \\\n",
       "0   810762  A remote sensing-based model of tidal marsh ab...   \n",
       "1   637462  Effects of biodiesel from used frying palm oil...   \n",
       "2   407101  Networks in Plant Epidemiology: From Genes to ...   \n",
       "3  1554608  Objective calibration of numerical weather pre...   \n",
       "4   316145  Using climate models to estimate the quality o...   \n",
       "\n",
       "                                             content  0 - relevant  \\\n",
       "0  Remote sensing based maps of tidal marshes, bo...           NaN   \n",
       "1  In our previous paper, the influences of biodi...           NaN   \n",
       "2  There is increasing use of networks in ecology...           NaN   \n",
       "3  Numerical weather prediction (NWP) and climate...           NaN   \n",
       "4  Observational estimates of the climate system ...           NaN   \n",
       "\n",
       "   10 - 3. Quantitative  10 - 4. Qualitative 11 - countries 12 - policy name  \\\n",
       "0                   NaN                  NaN            NaN              NaN   \n",
       "1                   NaN                  NaN            NaN              NaN   \n",
       "2                   NaN                  NaN            NaN              NaN   \n",
       "3                   NaN                  NaN            NaN              NaN   \n",
       "4                   NaN                  NaN            NaN              NaN   \n",
       "\n",
       "   2 - 0. Mitigation  2 - 1. Adaptation  ...  8 - 15. Cross-sectoral  \\\n",
       "0                NaN                NaN  ...                     NaN   \n",
       "1                NaN                NaN  ...                     NaN   \n",
       "2                NaN                NaN  ...                     NaN   \n",
       "3                NaN                NaN  ...                     NaN   \n",
       "4                NaN                NaN  ...                     NaN   \n",
       "\n",
       "   9 - 0. Ex-post  9 - 1. Ex-ante  9 - 2. Ex-ante (IAM)  INCLUDE  random  \\\n",
       "0             NaN             NaN                   NaN      NaN       0   \n",
       "1             NaN             NaN                   NaN      NaN       0   \n",
       "2             NaN             NaN                   NaN      NaN       0   \n",
       "3             NaN             NaN                   NaN      NaN       0   \n",
       "4             NaN             NaN                   NaN      NaN       0   \n",
       "\n",
       "   seen                                     wosarticle__de  \\\n",
       "0     0  Tidal marsh biomass; Aboveground carbon stocks...   \n",
       "1     0                                                NaN   \n",
       "2     0  biodiversity; complexity and stability; modeli...   \n",
       "3     0  Modelling; Calibration; Numerical weather pred...   \n",
       "4     0                                                NaN   \n",
       "\n",
       "                                      wosarticle__wc  relevant  \n",
       "0  ['Geography, Physical; Geosciences, Multidisci...       0.0  \n",
       "1          ['Energy & Fuels; Engineering, Chemical']       0.0  \n",
       "2                                 ['Plant Sciences']       0.0  \n",
       "3             ['Meteorology & Atmospheric Sciences']       0.0  \n",
       "4                     ['Multidisciplinary Sciences']       0.0  \n",
       "\n",
       "[5 rows x 108 columns]"
      ]
     },
     "execution_count": 6,
     "metadata": {},
     "output_type": "execute_result"
    }
   ],
   "source": [
    "seen_df = pd.read_csv('data/0_labelled_documents.csv')\n",
    "seen_df = seen_df[pd.notna(seen_df['INCLUDE'])]\n",
    "seen_df[\"seen\"] = 1\n",
    "unseen_df = pd.read_csv('data/0_unlabelled_documents.csv')\n",
    "df = (pd.concat([seen_df,unseen_df])\n",
    "      .sort_values('id')\n",
    "      .sample(frac=1, random_state=1)\n",
    "      .reset_index(drop=True)\n",
    ")\n",
    "\n",
    "seen_index = df[df['seen']==1].index\n",
    "unseen_index = df[df['seen']==0].index\n",
    "\n",
    "print(df.shape)\n",
    "df.head()"
   ]
  },
  {
   "cell_type": "code",
   "execution_count": 7,
   "metadata": {},
   "outputs": [
    {
     "data": {
      "text/plain": [
       "<matplotlib.axes._subplots.AxesSubplot at 0x7fe84bbeb588>"
      ]
     },
     "execution_count": 7,
     "metadata": {},
     "output_type": "execute_result"
    },
    {
     "data": {
      "image/png": "[encoded data removed]",
      "text/plain": [
       "<Figure size 432x288 with 1 Axes>"
      ]
     },
     "metadata": {},
     "output_type": "display_data"
    }
   ],
   "source": [
    "seen_df.groupby('INCLUDE').size().plot.bar()"
   ]
  },
  {
   "cell_type": "code",
   "execution_count": null,
   "metadata": {},
   "outputs": [],
   "source": []
  },
  {
   "cell_type": "code",
   "execution_count": 8,
   "metadata": {},
   "outputs": [],
   "source": [
    "from sklearn.pipeline import Pipeline\n",
    "from sklearn.model_selection import GridSearchCV\n",
    "\n",
    "# Here we define the whole pipeline starting from creating features to training a classifier\n",
    "\n",
    "pipeline = Pipeline([\n",
    "    ('vect', TfidfVectorizer()),\n",
    "    ('clf', SVC(probability=True,  class_weight=\"balanced\")),\n",
    "])\n",
    "\n",
    "# Now we define the parameter space we want to search. This gets computationally expensive the \n",
    "# more parameters we search, as we fit a model for every unique combination of parameters (there are fancier and smarter ways to do this)\n",
    "\n",
    "parameters = [\n",
    "    {\n",
    "        'vect__max_df': (0.3, 0.5, 0.75),\n",
    "        'vect__min_df': (5, 10, 15),\n",
    "        'vect__ngram_range': ((1, 1), (1, 2)),  \n",
    "        'clf__kernel': ['rbf'], \n",
    "        'clf__gamma': [1e-3, 1e-4], # Because only the rbf kernel has the gamma parameters, we do this separately\n",
    "        'clf__C': [1, 1e1, 1e2, 1e3]\n",
    "    },\n",
    "    {\n",
    "        'vect__max_df': (0.3, 0.5, 0.75),\n",
    "        'vect__min_df': (5, 10, 15),\n",
    "        'vect__ngram_range': ((1, 1), (1, 2)),  \n",
    "        'clf__kernel': ['linear'], \n",
    "        'clf__C': [1, 1e1, 1e2, 1e3]\n",
    "    }\n",
    "]\n",
    "\n",
    "clf = GridSearchCV(pipeline, parameters, scoring=\"f1\", n_jobs=8, verbose=1)"
   ]
  },
  {
   "cell_type": "code",
   "execution_count": null,
   "metadata": {},
   "outputs": [],
   "source": []
  },
  {
   "cell_type": "code",
   "execution_count": 9,
   "metadata": {},
   "outputs": [
    {
     "name": "stdout",
     "output_type": "stream",
     "text": [
      "Fitting 5 folds for each of 216 candidates, totalling 1080 fits\n"
     ]
    },
    {
     "name": "stderr",
     "output_type": "stream",
     "text": [
      "[Parallel(n_jobs=8)]: Using backend LokyBackend with 8 concurrent workers.\n",
      "[Parallel(n_jobs=8)]: Done  34 tasks      | elapsed:   34.0s\n",
      "[Parallel(n_jobs=8)]: Done 184 tasks      | elapsed:  3.2min\n",
      "[Parallel(n_jobs=8)]: Done 434 tasks      | elapsed:  7.5min\n",
      "[Parallel(n_jobs=8)]: Done 784 tasks      | elapsed: 12.9min\n",
      "[Parallel(n_jobs=8)]: Done 1080 out of 1080 | elapsed: 17.4min finished\n"
     ]
    },
    {
     "data": {
      "text/plain": [
       "GridSearchCV(estimator=Pipeline(steps=[('vect', TfidfVectorizer()),\n",
       "                                       ('clf',\n",
       "                                        SVC(class_weight='balanced',\n",
       "                                            probability=True))]),\n",
       "             n_jobs=8,\n",
       "             param_grid=[{'clf__C': [1, 10.0, 100.0, 1000.0],\n",
       "                          'clf__gamma': [0.001, 0.0001], 'clf__kernel': ['rbf'],\n",
       "                          'vect__max_df': (0.3, 0.5, 0.75),\n",
       "                          'vect__min_df': (5, 10, 15),\n",
       "                          'vect__ngram_range': ((1, 1), (1, 2))},\n",
       "                         {'clf__C': [1, 10.0, 100.0, 1000.0],\n",
       "                          'clf__kernel': ['linear'],\n",
       "                          'vect__max_df': (0.3, 0.5, 0.75),\n",
       "                          'vect__min_df': (5, 10, 15),\n",
       "                          'vect__ngram_range': ((1, 1), (1, 2))}],\n",
       "             scoring='f1', verbose=1)"
      ]
     },
     "execution_count": 9,
     "metadata": {},
     "output_type": "execute_result"
    }
   ],
   "source": [
    "# Now we fit them, by default we try a model for each set of parameters for 5 folds of train/test data\n",
    "# Even with this running in parallel (n_jobs=8) this might be time to get a coffee\n",
    "clf.fit(df.loc[seen_index, 'content'], df.loc[seen_index,'INCLUDE'])"
   ]
  },
  {
   "cell_type": "code",
   "execution_count": 10,
   "metadata": {},
   "outputs": [
    {
     "data": {
      "text/plain": [
       "Pipeline(steps=[('vect', TfidfVectorizer(max_df=0.5, min_df=15)),\n",
       "                ('clf',\n",
       "                 SVC(C=100.0, class_weight='balanced', gamma=0.001,\n",
       "                     probability=True))])"
      ]
     },
     "execution_count": 10,
     "metadata": {},
     "output_type": "execute_result"
    }
   ],
   "source": [
    "# The best model is the combination of parameters with the highest mean score across 5 folds\n",
    "clf.best_estimator_"
   ]
  },
  {
   "cell_type": "code",
   "execution_count": 11,
   "metadata": {},
   "outputs": [
    {
     "data": {
      "text/html": [
       "<div>\n",
       "<style scoped>\n",
       "    .dataframe tbody tr th:only-of-type {\n",
       "        vertical-align: middle;\n",
       "    }\n",
       "\n",
       "    .dataframe tbody tr th {\n",
       "        vertical-align: top;\n",
       "    }\n",
       "\n",
       "    .dataframe thead th {\n",
       "        text-align: right;\n",
       "    }\n",
       "</style>\n",
       "<table border=\"1\" class=\"dataframe\">\n",
       "  <thead>\n",
       "    <tr style=\"text-align: right;\">\n",
       "      <th></th>\n",
       "      <th>mean_fit_time</th>\n",
       "      <th>std_fit_time</th>\n",
       "      <th>mean_score_time</th>\n",
       "      <th>std_score_time</th>\n",
       "      <th>param_clf__C</th>\n",
       "      <th>param_clf__gamma</th>\n",
       "      <th>param_clf__kernel</th>\n",
       "      <th>param_vect__max_df</th>\n",
       "      <th>param_vect__min_df</th>\n",
       "      <th>param_vect__ngram_range</th>\n",
       "      <th>params</th>\n",
       "      <th>split0_test_score</th>\n",
       "      <th>split1_test_score</th>\n",
       "      <th>split2_test_score</th>\n",
       "      <th>split3_test_score</th>\n",
       "      <th>split4_test_score</th>\n",
       "      <th>mean_test_score</th>\n",
       "      <th>std_test_score</th>\n",
       "      <th>rank_test_score</th>\n",
       "    </tr>\n",
       "  </thead>\n",
       "  <tbody>\n",
       "    <tr>\n",
       "      <th>0</th>\n",
       "      <td>5.331708</td>\n",
       "      <td>0.174248</td>\n",
       "      <td>0.304126</td>\n",
       "      <td>0.003249</td>\n",
       "      <td>1</td>\n",
       "      <td>0.001</td>\n",
       "      <td>rbf</td>\n",
       "      <td>0.3</td>\n",
       "      <td>5</td>\n",
       "      <td>(1, 1)</td>\n",
       "      <td>{'clf__C': 1, 'clf__gamma': 0.001, 'clf__kerne...</td>\n",
       "      <td>0.624242</td>\n",
       "      <td>0.0</td>\n",
       "      <td>0.0</td>\n",
       "      <td>0.0</td>\n",
       "      <td>0.0</td>\n",
       "      <td>0.124848</td>\n",
       "      <td>0.249697</td>\n",
       "      <td>127</td>\n",
       "    </tr>\n",
       "    <tr>\n",
       "      <th>1</th>\n",
       "      <td>8.797384</td>\n",
       "      <td>0.095916</td>\n",
       "      <td>0.508477</td>\n",
       "      <td>0.012008</td>\n",
       "      <td>1</td>\n",
       "      <td>0.001</td>\n",
       "      <td>rbf</td>\n",
       "      <td>0.3</td>\n",
       "      <td>5</td>\n",
       "      <td>(1, 2)</td>\n",
       "      <td>{'clf__C': 1, 'clf__gamma': 0.001, 'clf__kerne...</td>\n",
       "      <td>0.624242</td>\n",
       "      <td>0.0</td>\n",
       "      <td>0.0</td>\n",
       "      <td>0.0</td>\n",
       "      <td>0.0</td>\n",
       "      <td>0.124848</td>\n",
       "      <td>0.249697</td>\n",
       "      <td>127</td>\n",
       "    </tr>\n",
       "    <tr>\n",
       "      <th>2</th>\n",
       "      <td>4.891560</td>\n",
       "      <td>0.086434</td>\n",
       "      <td>0.300965</td>\n",
       "      <td>0.013797</td>\n",
       "      <td>1</td>\n",
       "      <td>0.001</td>\n",
       "      <td>rbf</td>\n",
       "      <td>0.3</td>\n",
       "      <td>10</td>\n",
       "      <td>(1, 1)</td>\n",
       "      <td>{'clf__C': 1, 'clf__gamma': 0.001, 'clf__kerne...</td>\n",
       "      <td>0.624242</td>\n",
       "      <td>0.0</td>\n",
       "      <td>0.0</td>\n",
       "      <td>0.0</td>\n",
       "      <td>0.0</td>\n",
       "      <td>0.124848</td>\n",
       "      <td>0.249697</td>\n",
       "      <td>127</td>\n",
       "    </tr>\n",
       "    <tr>\n",
       "      <th>3</th>\n",
       "      <td>7.465653</td>\n",
       "      <td>0.086460</td>\n",
       "      <td>0.466107</td>\n",
       "      <td>0.021723</td>\n",
       "      <td>1</td>\n",
       "      <td>0.001</td>\n",
       "      <td>rbf</td>\n",
       "      <td>0.3</td>\n",
       "      <td>10</td>\n",
       "      <td>(1, 2)</td>\n",
       "      <td>{'clf__C': 1, 'clf__gamma': 0.001, 'clf__kerne...</td>\n",
       "      <td>0.624242</td>\n",
       "      <td>0.0</td>\n",
       "      <td>0.0</td>\n",
       "      <td>0.0</td>\n",
       "      <td>0.0</td>\n",
       "      <td>0.124848</td>\n",
       "      <td>0.249697</td>\n",
       "      <td>127</td>\n",
       "    </tr>\n",
       "    <tr>\n",
       "      <th>4</th>\n",
       "      <td>4.641208</td>\n",
       "      <td>0.034890</td>\n",
       "      <td>0.278408</td>\n",
       "      <td>0.003637</td>\n",
       "      <td>1</td>\n",
       "      <td>0.001</td>\n",
       "      <td>rbf</td>\n",
       "      <td>0.3</td>\n",
       "      <td>15</td>\n",
       "      <td>(1, 1)</td>\n",
       "      <td>{'clf__C': 1, 'clf__gamma': 0.001, 'clf__kerne...</td>\n",
       "      <td>0.624242</td>\n",
       "      <td>0.0</td>\n",
       "      <td>0.0</td>\n",
       "      <td>0.0</td>\n",
       "      <td>0.0</td>\n",
       "      <td>0.124848</td>\n",
       "      <td>0.249697</td>\n",
       "      <td>127</td>\n",
       "    </tr>\n",
       "  </tbody>\n",
       "</table>\n",
       "</div>"
      ],
      "text/plain": [
       "   mean_fit_time  std_fit_time  mean_score_time  std_score_time param_clf__C  \\\n",
       "0       5.331708      0.174248         0.304126        0.003249            1   \n",
       "1       8.797384      0.095916         0.508477        0.012008            1   \n",
       "2       4.891560      0.086434         0.300965        0.013797            1   \n",
       "3       7.465653      0.086460         0.466107        0.021723            1   \n",
       "4       4.641208      0.034890         0.278408        0.003637            1   \n",
       "\n",
       "  param_clf__gamma param_clf__kernel param_vect__max_df param_vect__min_df  \\\n",
       "0            0.001               rbf                0.3                  5   \n",
       "1            0.001               rbf                0.3                  5   \n",
       "2            0.001               rbf                0.3                 10   \n",
       "3            0.001               rbf                0.3                 10   \n",
       "4            0.001               rbf                0.3                 15   \n",
       "\n",
       "  param_vect__ngram_range                                             params  \\\n",
       "0                  (1, 1)  {'clf__C': 1, 'clf__gamma': 0.001, 'clf__kerne...   \n",
       "1                  (1, 2)  {'clf__C': 1, 'clf__gamma': 0.001, 'clf__kerne...   \n",
       "2                  (1, 1)  {'clf__C': 1, 'clf__gamma': 0.001, 'clf__kerne...   \n",
       "3                  (1, 2)  {'clf__C': 1, 'clf__gamma': 0.001, 'clf__kerne...   \n",
       "4                  (1, 1)  {'clf__C': 1, 'clf__gamma': 0.001, 'clf__kerne...   \n",
       "\n",
       "   split0_test_score  split1_test_score  split2_test_score  split3_test_score  \\\n",
       "0           0.624242                0.0                0.0                0.0   \n",
       "1           0.624242                0.0                0.0                0.0   \n",
       "2           0.624242                0.0                0.0                0.0   \n",
       "3           0.624242                0.0                0.0                0.0   \n",
       "4           0.624242                0.0                0.0                0.0   \n",
       "\n",
       "   split4_test_score  mean_test_score  std_test_score  rank_test_score  \n",
       "0                0.0         0.124848        0.249697              127  \n",
       "1                0.0         0.124848        0.249697              127  \n",
       "2                0.0         0.124848        0.249697              127  \n",
       "3                0.0         0.124848        0.249697              127  \n",
       "4                0.0         0.124848        0.249697              127  "
      ]
     },
     "execution_count": 11,
     "metadata": {},
     "output_type": "execute_result"
    }
   ],
   "source": [
    "# We can also put the results into a dataframe\n",
    "results = pd.DataFrame(clf.cv_results_)\n",
    "results.head()"
   ]
  },
  {
   "cell_type": "code",
   "execution_count": 12,
   "metadata": {},
   "outputs": [
    {
     "data": {
      "image/png": "[encoded data removed]",
      "text/plain": [
       "<Figure size 504x288 with 1 Axes>"
      ]
     },
     "metadata": {},
     "output_type": "display_data"
    }
   ],
   "source": [
    "# Now if we want to look at what the individual parameters do we can plot the range of results obtained\n",
    "# with each value of the parameter\n",
    "def param_boxes(results, param, scorer=\"F1\"):\n",
    "    fig, ax = plt.subplots(figsize=(7,4))\n",
    "    # A list of values for our boxplot\n",
    "    x = []\n",
    "    labels = []\n",
    "    for i, (name, group) in enumerate(results.groupby(param)):\n",
    "        labels.append(name)\n",
    "        x.append(group['mean_test_score'])\n",
    "    ax.boxplot(x)\n",
    "    ax.set_xticklabels(labels)\n",
    "    ax.set_xlabel(param)\n",
    "    ax.set_ylabel(scorer)\n",
    "    plt.show()\n",
    "    \n",
    "param_boxes(results, \"param_clf__C\")"
   ]
  },
  {
   "cell_type": "code",
   "execution_count": 13,
   "metadata": {},
   "outputs": [
    {
     "data": {
      "image/png": "[encoded data removed]",
      "text/plain": [
       "<Figure size 504x288 with 1 Axes>"
      ]
     },
     "metadata": {},
     "output_type": "display_data"
    }
   ],
   "source": [
    "# This also works for a combination of params\n",
    "param_boxes(results, [\"param_clf__kernel\",\"param_clf__C\"])"
   ]
  },
  {
   "cell_type": "code",
   "execution_count": 14,
   "metadata": {},
   "outputs": [
    {
     "data": {
      "image/png": "[encoded data removed]",
      "text/plain": [
       "<Figure size 504x288 with 1 Axes>"
      ]
     },
     "metadata": {},
     "output_type": "display_data"
    }
   ],
   "source": [
    "param_boxes(results, \"param_vect__ngram_range\")"
   ]
  },
  {
   "cell_type": "code",
   "execution_count": 15,
   "metadata": {},
   "outputs": [
    {
     "data": {
      "image/png": "[encoded data removed]",
      "text/plain": [
       "<Figure size 504x288 with 1 Axes>"
      ]
     },
     "metadata": {},
     "output_type": "display_data"
    }
   ],
   "source": [
    "param_boxes(results, \"param_vect__min_df\")"
   ]
  },
  {
   "cell_type": "code",
   "execution_count": 16,
   "metadata": {},
   "outputs": [
    {
     "data": {
      "image/png": "[encoded data removed]",
      "text/plain": [
       "<Figure size 504x288 with 1 Axes>"
      ]
     },
     "metadata": {},
     "output_type": "display_data"
    }
   ],
   "source": [
    "param_boxes(results, \"param_vect__max_df\")"
   ]
  },
  {
   "cell_type": "code",
   "execution_count": 18,
   "metadata": {},
   "outputs": [
    {
     "data": {
      "text/plain": [
       "Pipeline(steps=[('vect', TfidfVectorizer(max_df=0.5, min_df=15)),\n",
       "                ('clf',\n",
       "                 SVC(C=100.0, class_weight='balanced', gamma=0.001,\n",
       "                     probability=True))])"
      ]
     },
     "execution_count": 18,
     "metadata": {},
     "output_type": "execute_result"
    }
   ],
   "source": [
    "clf.best_estimator_"
   ]
  },
  {
   "cell_type": "code",
   "execution_count": 19,
   "metadata": {},
   "outputs": [],
   "source": [
    "# We can fit our best model with the whole training set now \n",
    "clf.best_estimator_.fit(df.loc[seen_index, 'content'], df.loc[seen_index,'INCLUDE'])\n",
    "# And obtain predictions for all that we have not yet seen\n",
    "y_pred = clf.predict_proba(df.loc[unseen_index,'content'])"
   ]
  },
  {
   "cell_type": "code",
   "execution_count": 20,
   "metadata": {},
   "outputs": [
    {
     "name": "stderr",
     "output_type": "stream",
     "text": [
      "/home/max/software/django-tmv/tmv/venv/lib/python3.6/site-packages/ipykernel_launcher.py:2: SettingWithCopyWarning: \n",
      "A value is trying to be set on a copy of a slice from a DataFrame\n",
      "\n",
      "See the caveats in the documentation: https://pandas.pydata.org/pandas-docs/stable/user_guide/indexing.html#returning-a-view-versus-a-copy\n",
      "  \n",
      "/home/max/software/django-tmv/tmv/venv/lib/python3.6/site-packages/pandas/core/indexing.py:670: SettingWithCopyWarning: \n",
      "A value is trying to be set on a copy of a slice from a DataFrame\n",
      "\n",
      "See the caveats in the documentation: https://pandas.pydata.org/pandas-docs/stable/user_guide/indexing.html#returning-a-view-versus-a-copy\n",
      "  iloc._setitem_with_indexer(indexer, value)\n"
     ]
    },
    {
     "name": "stdout",
     "output_type": "stream",
     "text": [
      "68521\n"
     ]
    },
    {
     "data": {
      "image/png": "[encoded data removed]",
      "text/plain": [
       "<Figure size 432x288 with 1 Axes>"
      ]
     },
     "metadata": {},
     "output_type": "display_data"
    }
   ],
   "source": [
    "df['prediction'] = None\n",
    "df['prediction'][unseen_index] = y_pred[:,1]\n",
    "y_pred.shape\n",
    "\n",
    "plt.close()\n",
    "\n",
    "fig, ax = plt.subplots()\n",
    "\n",
    "pdf = df.sort_values('prediction').reset_index(drop=True)\n",
    "ax.plot(pdf.index,pdf['prediction'])\n",
    "ax.axhline(0.5,linestyle=\"--\",color=\"grey\")\n",
    "\n",
    "print(pdf[pdf['prediction']>0.5].shape[0])\n",
    "\n",
    "plt.show()"
   ]
  },
  {
   "cell_type": "code",
   "execution_count": null,
   "metadata": {},
   "outputs": [],
   "source": []
  },
  {
   "cell_type": "code",
   "execution_count": null,
   "metadata": {},
   "outputs": [],
   "source": []
  },
  {
   "cell_type": "code",
   "execution_count": 21,
   "metadata": {},
   "outputs": [],
   "source": [
    "# from sklearn.model_selection import KFold\n",
    "# from sklearn.ensemble import GradientBoostingClassifier, AdaBoostClassifier\n",
    "# import random\n",
    "\n",
    "\n",
    "# y = df['INCLUDE']\n",
    "\n",
    "\n",
    "# from importlib import reload  \n",
    "# import scoping.utils.learning_utils as lu\n",
    "# reload(scoping.utils.learning_utils)\n",
    "\n",
    "# clf_models = [\n",
    "#     {\n",
    "#         'title': 'SVM rbf', \n",
    "#         'model': SVC(kernel='rbf',class_weight='balanced',probability=True, C=10)\n",
    "#     },\n",
    "#     {\n",
    "#         'title': 'SVM lin C10', \n",
    "#         'model': SVC(kernel='linear',class_weight='balanced',probability=True, C=10)\n",
    "#     },\n",
    "#     {\n",
    "#         'title': 'SVM lin C1', \n",
    "#         'model': SVC(kernel='linear',class_weight='balanced',probability=True, C=1)\n",
    "#     },\n",
    "\n",
    "# ]\n",
    "\n",
    "\n",
    "# clf_models, df = lu.cross_validate_models(\n",
    "#     X, y, clf_models, seen_index, n_splits=6, df = df\n",
    "# )"
   ]
  },
  {
   "cell_type": "code",
   "execution_count": 22,
   "metadata": {},
   "outputs": [],
   "source": [
    "# from importlib import reload  \n",
    "# import scoping.utils.learning_utils as lu\n",
    "# reload(scoping.utils.learning_utils)\n",
    "\n",
    "# fig, axs = plt.subplots(1, len(clf_models),dpi=125,figsize=(8,8),sharey=True)              \n",
    "# lu.plot_model_output(clf_models,  ['p','r','e'], fig, axs)\n",
    "# for ax in axs:\n",
    "#     ax.set_xticklabels([\"precision\",\"recall\",\"accuracy\"])\n",
    "# #fig.tight_layout()\n",
    "# #plt.savefig(f'../plots/prediction_models/relevance_prediction_{now.strftime(\"%Y-%m-%d_%H:%M:%S\")}.pdf',bbox_inches=\"tight\")\n",
    "# plt.show()"
   ]
  },
  {
   "cell_type": "code",
   "execution_count": 23,
   "metadata": {},
   "outputs": [],
   "source": [
    "# clf = SVC(kernel='rbf',C=10, class_weight='balanced', probability=True)\n",
    "\n",
    "# clf.fit(X[seen_index],y[seen_index])\n",
    "\n",
    "# y_pred = clf.predict_proba(X[unseen_index])"
   ]
  },
  {
   "cell_type": "code",
   "execution_count": null,
   "metadata": {},
   "outputs": [],
   "source": []
  },
  {
   "cell_type": "code",
   "execution_count": null,
   "metadata": {},
   "outputs": [],
   "source": []
  },
  {
   "cell_type": "code",
   "execution_count": 18,
   "metadata": {},
   "outputs": [
    {
     "name": "stderr",
     "output_type": "stream",
     "text": [
      "/home/max/software/django-tmv/tmv/venv/lib/python3.6/site-packages/ipykernel_launcher.py:2: SettingWithCopyWarning: \n",
      "A value is trying to be set on a copy of a slice from a DataFrame\n",
      "\n",
      "See the caveats in the documentation: https://pandas.pydata.org/pandas-docs/stable/user_guide/indexing.html#returning-a-view-versus-a-copy\n",
      "  \n",
      "/home/max/software/django-tmv/tmv/venv/lib/python3.6/site-packages/pandas/core/indexing.py:670: SettingWithCopyWarning: \n",
      "A value is trying to be set on a copy of a slice from a DataFrame\n",
      "\n",
      "See the caveats in the documentation: https://pandas.pydata.org/pandas-docs/stable/user_guide/indexing.html#returning-a-view-versus-a-copy\n",
      "  iloc._setitem_with_indexer(indexer, value)\n"
     ]
    },
    {
     "name": "stdout",
     "output_type": "stream",
     "text": [
      "78884\n"
     ]
    },
    {
     "data": {
      "image/png": "[encoded data removed]",
      "text/plain": [
       "<Figure size 432x288 with 1 Axes>"
      ]
     },
     "metadata": {},
     "output_type": "display_data"
    }
   ],
   "source": [
    "df['prediction'] = None\n",
    "df['prediction'][unseen_index] = y_pred[:,1]\n",
    "y_pred.shape\n",
    "\n",
    "plt.close()\n",
    "\n",
    "fig, ax = plt.subplots()\n",
    "\n",
    "pdf = df.sort_values('prediction').reset_index(drop=True)\n",
    "ax.plot(pdf.index,pdf['prediction'])\n",
    "ax.axhline(0.5,linestyle=\"--\",color=\"grey\")\n",
    "\n",
    "print(pdf[pdf['prediction']>0.5].shape[0])\n",
    "\n",
    "plt.show()"
   ]
  },
  {
   "cell_type": "code",
   "execution_count": 20,
   "metadata": {},
   "outputs": [],
   "source": [
    "pairs = [\n",
    "    (['vasudevan@mcc-berlin.net','galm'], 40),      \n",
    "    (['ceposadap@gmail.com','edmondson@hertie-school.org'], 20),   \n",
    "    (['lucy.banisch@icloud.com','ceposadap@gmail.com'], 40)\n",
    "]\n",
    "\n",
    "new_q = Query.objects.get(pk=8843)\n",
    "\n",
    "tag, created = Tag.objects.get_or_create(\n",
    "    title=\"Probably relevant random sample 10\",\n",
    "    query=new_q,\n",
    ")\n",
    "\n",
    "gov_docs = set(df[df['prediction']>=0.5].id)\n",
    "\n",
    "if created:\n",
    "\n",
    "    T = Doc.tag.through\n",
    "\n",
    "    for p in pairs:\n",
    "        gov_sample = set(random.sample(gov_docs, p[1]))\n",
    "        gov_docs -= gov_sample\n",
    "\n",
    "        for did in gov_sample:\n",
    "            for u in p[0]:\n",
    "                user = User.objects.get(username=u)\n",
    "                do, created = DocOwnership.objects.get_or_create(\n",
    "                    query=new_q,\n",
    "                    tag=tag,\n",
    "                    doc_id=did,\n",
    "                    user=user\n",
    "                )\n",
    "\n",
    "        dts = [T(doc_id=did, tag=tag) for did in gov_sample]\n",
    "        T.objects.bulk_create(dts)\n",
    "\n",
    "    tag.update_tag()"
   ]
  },
  {
   "cell_type": "code",
   "execution_count": 25,
   "metadata": {},
   "outputs": [],
   "source": [
    "pairs = [\n",
    "    (['vasudevan@mcc-berlin.net','lucy.banisch@icloud.com'], 80),      \n",
    "    (['doebbeling@mcc-berlin.net','edmondson@hertie-school.org'], 20),   \n",
    "    (['galm','ceposadap@gmail.com'], 40)\n",
    "]\n",
    "\n",
    "new_q = Query.objects.get(pk=8843)\n",
    "\n",
    "tag, created = Tag.objects.get_or_create(\n",
    "    title=\"Probably relevant random sample 11\",\n",
    "    query=new_q,\n",
    ")\n",
    "\n",
    "gov_docs = set(df[df['prediction']>=0.5].id)\n",
    "\n",
    "if created:\n",
    "\n",
    "    T = Doc.tag.through\n",
    "\n",
    "    for p in pairs:\n",
    "        gov_sample = set(random.sample(gov_docs, p[1]))\n",
    "        gov_docs -= gov_sample\n",
    "\n",
    "        for did in gov_sample:\n",
    "            for u in p[0]:\n",
    "                user = User.objects.get(username=u)\n",
    "                do, created = DocOwnership.objects.get_or_create(\n",
    "                    query=new_q,\n",
    "                    tag=tag,\n",
    "                    doc_id=did,\n",
    "                    user=user\n",
    "                )\n",
    "\n",
    "        dts = [T(doc_id=did, tag=tag) for did in gov_sample]\n",
    "        T.objects.bulk_create(dts)\n",
    "\n",
    "    tag.update_tag()"
   ]
  },
  {
   "cell_type": "code",
   "execution_count": null,
   "metadata": {},
   "outputs": [],
   "source": []
  },
  {
   "cell_type": "code",
   "execution_count": null,
   "metadata": {},
   "outputs": [],
   "source": []
  },
  {
   "cell_type": "code",
   "execution_count": 22,
   "metadata": {},
   "outputs": [],
   "source": [
    "import datetime\n",
    "now = datetime.datetime.now().strftime(\"%Y-%m-%d %H:%M\")\n",
    "q = Query.objects.get(pk=9046)\n",
    "tag, created = Tag.objects.get_or_create(\n",
    "    title=\"predicted relevant sample {}\".format(now),\n",
    "    query=q\n",
    ")\n",
    "tag.save()\n",
    "\n",
    "\n",
    "users = q.users.all()\n",
    "uc = len(users)\n",
    "\n",
    "new_docs = (df\n",
    "            .sort_values('prediction',ascending=False)\n",
    "            .head(50)\n",
    "            .reset_index(drop=True)\n",
    "           )\n",
    "\n",
    "for i, row in new_docs.iterrows():\n",
    "    d = Doc.objects.get(id=row['id'])\n",
    "    d.tag.add(tag)\n",
    "    u = users[i % uc]\n",
    "    for u in users:\n",
    "        do, created = DocOwnership.objects.get_or_create(\n",
    "            doc=d,\n",
    "            user=u,\n",
    "            query=q,\n",
    "            tag=tag\n",
    "        )\n",
    "        do.save()\n",
    "    \n",
    "tag.update_tag()"
   ]
  },
  {
   "cell_type": "code",
   "execution_count": null,
   "metadata": {},
   "outputs": [],
   "source": []
  }
 ],
 "metadata": {
  "kernelspec": {
   "display_name": "tmv",
   "language": "python",
   "name": "tmv"
  },
  "language_info": {
   "codemirror_mode": {
    "name": "ipython",
    "version": 3
   },
   "file_extension": ".py",
   "mimetype": "text/x-python",
   "name": "python",
   "nbconvert_exporter": "python",
   "pygments_lexer": "ipython3",
   "version": "3.6.6"
  }
 },
 "nbformat": 4,
 "nbformat_minor": 4
}
