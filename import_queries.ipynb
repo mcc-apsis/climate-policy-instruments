{
 "cells": [
  {
   "cell_type": "code",
   "execution_count": 1,
   "metadata": {},
   "outputs": [],
   "source": [
    "import django, sys, os\n",
    "sys.path.append('/home/galm/software/django/tmv/BasicBrowser/')\n",
    "sys.path.append('/home/max/software/django-tmv/tmv_mcc-apsis/BasicBrowser')\n",
    "os.environ.setdefault(\"DJANGO_SETTINGS_MODULE\", \"BasicBrowser.settings\")\n",
    "django.setup()\n",
    "import random\n",
    "from scoping.models import *"
   ]
  },
  {
   "cell_type": "markdown",
   "metadata": {},
   "source": [
    "## Copy query from old project"
   ]
  },
  {
   "cell_type": "code",
   "execution_count": 2,
   "metadata": {},
   "outputs": [],
   "source": [
    "copy_q = Query.objects.get(pk=8615)\n",
    "p = Project.objects.get(pk=260)\n",
    "\n",
    "new_q, created = Query.objects.get_or_create(\n",
    "    project=p,\n",
    "    title=copy_q.title,\n",
    "    database=copy_q.database,\n",
    "    creator=copy_q.creator\n",
    ")\n",
    "\n",
    "if new_q.doc_set.count() != copy_q.doc_set.count():\n",
    "    new_q.doc_set.clear()\n",
    "    T = Doc.query.through\n",
    "    dqs = [T(doc_id=did, query=new_q) for did in copy_q.doc_set.values_list('id',flat=True)]\n",
    "    T.objects.bulk_create(dqs)\n",
    "    new_q.r_count = new_q.doc_set.count()\n",
    "    new_q.save()"
   ]
  },
  {
   "cell_type": "code",
   "execution_count": 3,
   "metadata": {},
   "outputs": [],
   "source": [
    "p = Project.objects.get(pk=260)\n",
    "all_assigned_docs = set(DocOwnership.objects.filter(query__project=p).values_list('doc__pk',flat=True))\n"
   ]
  },
  {
   "cell_type": "code",
   "execution_count": 4,
   "metadata": {},
   "outputs": [],
   "source": [
    "## First random sample"
   ]
  },
  {
   "cell_type": "code",
   "execution_count": 5,
   "metadata": {},
   "outputs": [],
   "source": [
    "random.seed(1)\n",
    "\n",
    "sample = random.sample(list(new_q.doc_set.order_by('id').values_list('id',flat=True)), 50)\n",
    "\n",
    "tag, created = Tag.objects.get_or_create(\n",
    "    title=\"Random sample 1\",\n",
    "    query=new_q,\n",
    ")\n",
    "\n",
    "if created:\n",
    "    for did in sample:\n",
    "        for u in p.users.all():\n",
    "            do, created = DocOwnership.objects.get_or_create(\n",
    "                doc_id=did,\n",
    "                user=u,\n",
    "                tag=tag,\n",
    "                query=new_q\n",
    "            )\n",
    "        \n",
    "    Doc.objects.get(pk=did).tag.add(tag)\n",
    "    \n",
    "tag.update_tag()"
   ]
  },
  {
   "cell_type": "code",
   "execution_count": null,
   "metadata": {},
   "outputs": [],
   "source": []
  },
  {
   "cell_type": "code",
   "execution_count": 6,
   "metadata": {},
   "outputs": [],
   "source": [
    "copy_q = Query.objects.get(pk=8819)\n",
    "p = Project.objects.get(pk=260)\n",
    "\n",
    "gov_q, created = Query.objects.get_or_create(\n",
    "    project=p,\n",
    "    title=copy_q.title,\n",
    "    database=copy_q.database,\n",
    "    creator=copy_q.creator\n",
    ")\n",
    "\n",
    "if gov_q.doc_set.count() != copy_q.doc_set.count():\n",
    "    gov_q.doc_set.clear()\n",
    "    T = Doc.query.through\n",
    "    dqs = [T(doc_id=did, query=gov_q) for did in copy_q.doc_set.values_list('id',flat=True)]\n",
    "    T.objects.bulk_create(dqs)\n",
    "    gov_q.r_count = new_q.doc_set.count()\n",
    "    gov_q.save()"
   ]
  },
  {
   "cell_type": "code",
   "execution_count": 7,
   "metadata": {},
   "outputs": [],
   "source": [
    "random.seed(1)\n",
    "\n",
    "gov_docs = set(gov_q.doc_set.order_by('id').values_list('id',flat=True)) - all_assigned_docs\n",
    "\n",
    "sample = random.sample(list(gov_docs), 50)\n",
    "\n",
    "tag, created = Tag.objects.get_or_create(\n",
    "    title=\"Probably relevant random sample 1\",\n",
    "    query=new_q,\n",
    ")\n",
    "\n",
    "if created:\n",
    "    for did in sample:\n",
    "        for u in p.users.all():\n",
    "            do, created = DocOwnership.objects.get_or_create(\n",
    "                doc_id=did,\n",
    "                user=u,\n",
    "                tag=tag,\n",
    "                query=new_q\n",
    "            )\n",
    "        \n",
    "    Doc.objects.get(pk=did).tag.add(tag)\n",
    "    \n",
    "tag.update_tag()"
   ]
  },
  {
   "cell_type": "code",
   "execution_count": 8,
   "metadata": {},
   "outputs": [],
   "source": [
    "random.seed(1)\n",
    "\n",
    "gov_docs = set(gov_q.doc_set.order_by('id').values_list('id',flat=True)) - all_assigned_docs\n",
    "\n",
    "sample = random.sample(list(gov_docs), 25)\n",
    "\n",
    "tag, created = Tag.objects.get_or_create(\n",
    "    title=\"Probably relevant random sample 2\",\n",
    "    query=new_q,\n",
    ")\n",
    "\n",
    "if created:\n",
    "    for did in sample:\n",
    "        for u in p.users.all():\n",
    "            do, created = DocOwnership.objects.get_or_create(\n",
    "                doc_id=did,\n",
    "                user=u,\n",
    "                tag=tag,\n",
    "                query=new_q\n",
    "            )\n",
    "        \n",
    "    Doc.objects.get(pk=did).tag.add(tag)\n",
    "    \n",
    "tag.update_tag()"
   ]
  },
  {
   "cell_type": "code",
   "execution_count": 9,
   "metadata": {},
   "outputs": [
    {
     "name": "stdout",
     "output_type": "stream",
     "text": [
      "False\n",
      "500609\n",
      "3796353\n",
      "1799426\n",
      "701324\n",
      "1299360\n",
      "315555\n",
      "368313\n",
      "359364\n",
      "3711429\n",
      "2108742\n",
      "1838661\n",
      "3281608\n",
      "339272\n",
      "616011\n",
      "786764\n",
      "210635\n",
      "3827028\n",
      "154325\n",
      "3197013\n",
      "1827162\n",
      "136302\n",
      "3426417\n",
      "3863795\n",
      "233974\n",
      "20095\n"
     ]
    }
   ],
   "source": [
    "random.seed(1)\n",
    "\n",
    "gov_docs = set(gov_q.doc_set.order_by('id').values_list('id',flat=True)) - all_assigned_docs\n",
    "\n",
    "sample = random.sample(list(gov_docs), 25)\n",
    "\n",
    "tag, created = Tag.objects.get_or_create(\n",
    "    title=\"Probably relevant random sample 3\",\n",
    "    query=new_q,\n",
    ")\n",
    "\n",
    "print(created)\n",
    "\n",
    "if created:\n",
    "    for did in sample:\n",
    "        for u in p.users.all():\n",
    "            do, created = DocOwnership.objects.get_or_create(\n",
    "                doc_id=did,\n",
    "                user=u,\n",
    "                tag=tag,\n",
    "                query=new_q\n",
    "            )\n",
    "        \n",
    "    Doc.objects.get(pk=did).tag.add(tag)\n",
    "else:\n",
    "    for did in set(DocOwnership.objects.filter(tag=tag).values_list('doc__id',flat=True)):\n",
    "        print(did)\n",
    "        for u in p.users.all():\n",
    "            do, created = DocOwnership.objects.get_or_create(\n",
    "                doc_id=did,\n",
    "                user=u,\n",
    "                tag=tag,\n",
    "                query=new_q\n",
    "            )        \n",
    "    \n",
    "tag.update_tag()"
   ]
  },
  {
   "cell_type": "code",
   "execution_count": 10,
   "metadata": {},
   "outputs": [
    {
     "name": "stdout",
     "output_type": "stream",
     "text": [
      "True\n"
     ]
    }
   ],
   "source": [
    "random.seed(1)\n",
    "\n",
    "gov_docs = set(gov_q.doc_set.order_by('id').values_list('id',flat=True)) - all_assigned_docs\n",
    "\n",
    "sample = random.sample(list(gov_docs), 25)\n",
    "\n",
    "tag, created = Tag.objects.get_or_create(\n",
    "    title=\"Probably relevant random sample 4\",\n",
    "    query=new_q,\n",
    ")\n",
    "\n",
    "print(created)\n",
    "\n",
    "if created:\n",
    "    for did in sample:\n",
    "        for u in p.users.all():\n",
    "            do, created = DocOwnership.objects.get_or_create(\n",
    "                doc_id=did,\n",
    "                user=u,\n",
    "                tag=tag,\n",
    "                query=new_q\n",
    "            )\n",
    "        \n",
    "    Doc.objects.get(pk=did).tag.add(tag)\n",
    "else:\n",
    "    for did in set(DocOwnership.objects.filter(tag=tag).values_list('doc__id',flat=True)):\n",
    "        print(did)\n",
    "        for u in p.users.all():\n",
    "            do, created = DocOwnership.objects.get_or_create(\n",
    "                doc_id=did,\n",
    "                user=u,\n",
    "                tag=tag,\n",
    "                query=new_q\n",
    "            )        \n",
    "    \n",
    "tag.update_tag()"
   ]
  }
 ],
 "metadata": {
  "kernelspec": {
   "display_name": "tmv",
   "language": "python",
   "name": "tmv"
  },
  "language_info": {
   "codemirror_mode": {
    "name": "ipython",
    "version": 3
   },
   "file_extension": ".py",
   "mimetype": "text/x-python",
   "name": "python",
   "nbconvert_exporter": "python",
   "pygments_lexer": "ipython3",
   "version": "3.6.6"
  }
 },
 "nbformat": 4,
 "nbformat_minor": 4
}
