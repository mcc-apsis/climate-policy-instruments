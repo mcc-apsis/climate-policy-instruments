{
 "cells": [
  {
   "cell_type": "code",
   "execution_count": 38,
   "metadata": {},
   "outputs": [],
   "source": [
    "import pandas as pd\n",
    "import matplotlib.pyplot as plt\n",
    "import re"
   ]
  },
  {
   "cell_type": "code",
   "execution_count": 39,
   "metadata": {},
   "outputs": [
    {
     "name": "stdout",
     "output_type": "stream",
     "text": [
      "(450, 104)\n"
     ]
    },
    {
     "data": {
      "text/html": [
       "<div>\n",
       "<style scoped>\n",
       "    .dataframe tbody tr th:only-of-type {\n",
       "        vertical-align: middle;\n",
       "    }\n",
       "\n",
       "    .dataframe tbody tr th {\n",
       "        vertical-align: top;\n",
       "    }\n",
       "\n",
       "    .dataframe thead th {\n",
       "        text-align: right;\n",
       "    }\n",
       "</style>\n",
       "<table border=\"1\" class=\"dataframe\">\n",
       "  <thead>\n",
       "    <tr style=\"text-align: right;\">\n",
       "      <th></th>\n",
       "      <th>id</th>\n",
       "      <th>title</th>\n",
       "      <th>content</th>\n",
       "      <th>0 - relevant</th>\n",
       "      <th>10 - 3. Quantitative</th>\n",
       "      <th>10 - 4. Qualitative</th>\n",
       "      <th>11 - countries</th>\n",
       "      <th>12 - policy name</th>\n",
       "      <th>2 - 0. Mitigation</th>\n",
       "      <th>2 - 1. Adaptation</th>\n",
       "      <th>...</th>\n",
       "      <th>8 - 11. Ocean systems</th>\n",
       "      <th>8 - 12. Food</th>\n",
       "      <th>8 - 13. Human settlements, industry and infrastructure</th>\n",
       "      <th>8 - 14. Human health, well-being and security</th>\n",
       "      <th>8 - 15. Cross-sectoral</th>\n",
       "      <th>9 - 0. Ex-post</th>\n",
       "      <th>9 - 1. Ex-ante</th>\n",
       "      <th>9 - 2. Ex-ante (IAM)</th>\n",
       "      <th>INCLUDE</th>\n",
       "      <th>random</th>\n",
       "    </tr>\n",
       "  </thead>\n",
       "  <tbody>\n",
       "    <tr>\n",
       "      <td>2</td>\n",
       "      <td>3556</td>\n",
       "      <td>Will economic restructuring in China reduce tr...</td>\n",
       "      <td>We calculate carbon dioxide (CO2) emissions em...</td>\n",
       "      <td>1.0</td>\n",
       "      <td>1.0</td>\n",
       "      <td>NaN</td>\n",
       "      <td>China</td>\n",
       "      <td>NaN</td>\n",
       "      <td>1.0</td>\n",
       "      <td>0.0</td>\n",
       "      <td>...</td>\n",
       "      <td>0.0</td>\n",
       "      <td>0.0</td>\n",
       "      <td>0.0</td>\n",
       "      <td>0.0</td>\n",
       "      <td>NaN</td>\n",
       "      <td>1.0</td>\n",
       "      <td>0.0</td>\n",
       "      <td>0.0</td>\n",
       "      <td>1.0</td>\n",
       "      <td>0</td>\n",
       "    </tr>\n",
       "    <tr>\n",
       "      <td>5</td>\n",
       "      <td>4793</td>\n",
       "      <td>An emerging equilibrium in the EU emissions tr...</td>\n",
       "      <td>The European Union's Emissions Trading Scheme ...</td>\n",
       "      <td>1.0</td>\n",
       "      <td>1.0</td>\n",
       "      <td>0.0</td>\n",
       "      <td>0</td>\n",
       "      <td>NaN</td>\n",
       "      <td>1.0</td>\n",
       "      <td>0.0</td>\n",
       "      <td>...</td>\n",
       "      <td>0.0</td>\n",
       "      <td>0.0</td>\n",
       "      <td>0.0</td>\n",
       "      <td>0.0</td>\n",
       "      <td>NaN</td>\n",
       "      <td>1.0</td>\n",
       "      <td>NaN</td>\n",
       "      <td>0.0</td>\n",
       "      <td>1.0</td>\n",
       "      <td>0</td>\n",
       "    </tr>\n",
       "    <tr>\n",
       "      <td>10</td>\n",
       "      <td>17205</td>\n",
       "      <td>A fuel surcharge policy for reducing road traf...</td>\n",
       "      <td>This paper proposes a car pricing policy based...</td>\n",
       "      <td>1.0</td>\n",
       "      <td>1.0</td>\n",
       "      <td>0.0</td>\n",
       "      <td>NaN</td>\n",
       "      <td>0</td>\n",
       "      <td>1.0</td>\n",
       "      <td>0.0</td>\n",
       "      <td>...</td>\n",
       "      <td>0.0</td>\n",
       "      <td>0.0</td>\n",
       "      <td>0.0</td>\n",
       "      <td>0.0</td>\n",
       "      <td>0.0</td>\n",
       "      <td>0.0</td>\n",
       "      <td>1.0</td>\n",
       "      <td>0.0</td>\n",
       "      <td>1.0</td>\n",
       "      <td>0</td>\n",
       "    </tr>\n",
       "    <tr>\n",
       "      <td>11</td>\n",
       "      <td>17339</td>\n",
       "      <td>Innovation and Climate Change Policy</td>\n",
       "      <td>This paper examines whether climate change pol...</td>\n",
       "      <td>1.0</td>\n",
       "      <td>NaN</td>\n",
       "      <td>0.0</td>\n",
       "      <td>0</td>\n",
       "      <td>0</td>\n",
       "      <td>1.0</td>\n",
       "      <td>0.0</td>\n",
       "      <td>...</td>\n",
       "      <td>0.0</td>\n",
       "      <td>0.0</td>\n",
       "      <td>0.0</td>\n",
       "      <td>0.0</td>\n",
       "      <td>NaN</td>\n",
       "      <td>0.0</td>\n",
       "      <td>1.0</td>\n",
       "      <td>0.0</td>\n",
       "      <td>1.0</td>\n",
       "      <td>0</td>\n",
       "    </tr>\n",
       "    <tr>\n",
       "      <td>13</td>\n",
       "      <td>20095</td>\n",
       "      <td>Promoting the \"Development dividend\" of climat...</td>\n",
       "      <td>Future climate change policy in developing cou...</td>\n",
       "      <td>1.0</td>\n",
       "      <td>0.0</td>\n",
       "      <td>0.0</td>\n",
       "      <td>ThailandPhilippinesIndia</td>\n",
       "      <td>0</td>\n",
       "      <td>1.0</td>\n",
       "      <td>0.0</td>\n",
       "      <td>...</td>\n",
       "      <td>0.0</td>\n",
       "      <td>0.0</td>\n",
       "      <td>0.0</td>\n",
       "      <td>0.0</td>\n",
       "      <td>NaN</td>\n",
       "      <td>0.0</td>\n",
       "      <td>0.0</td>\n",
       "      <td>0.0</td>\n",
       "      <td>1.0</td>\n",
       "      <td>0</td>\n",
       "    </tr>\n",
       "  </tbody>\n",
       "</table>\n",
       "<p>5 rows × 104 columns</p>\n",
       "</div>"
      ],
      "text/plain": [
       "       id                                              title  \\\n",
       "2    3556  Will economic restructuring in China reduce tr...   \n",
       "5    4793  An emerging equilibrium in the EU emissions tr...   \n",
       "10  17205  A fuel surcharge policy for reducing road traf...   \n",
       "11  17339               Innovation and Climate Change Policy   \n",
       "13  20095  Promoting the \"Development dividend\" of climat...   \n",
       "\n",
       "                                              content  0 - relevant  \\\n",
       "2   We calculate carbon dioxide (CO2) emissions em...           1.0   \n",
       "5   The European Union's Emissions Trading Scheme ...           1.0   \n",
       "10  This paper proposes a car pricing policy based...           1.0   \n",
       "11  This paper examines whether climate change pol...           1.0   \n",
       "13  Future climate change policy in developing cou...           1.0   \n",
       "\n",
       "    10 - 3. Quantitative  10 - 4. Qualitative            11 - countries  \\\n",
       "2                    1.0                  NaN                     China   \n",
       "5                    1.0                  0.0                         0   \n",
       "10                   1.0                  0.0                       NaN   \n",
       "11                   NaN                  0.0                         0   \n",
       "13                   0.0                  0.0  ThailandPhilippinesIndia   \n",
       "\n",
       "   12 - policy name  2 - 0. Mitigation  2 - 1. Adaptation  ...  \\\n",
       "2               NaN                1.0                0.0  ...   \n",
       "5               NaN                1.0                0.0  ...   \n",
       "10                0                1.0                0.0  ...   \n",
       "11                0                1.0                0.0  ...   \n",
       "13                0                1.0                0.0  ...   \n",
       "\n",
       "    8 - 11. Ocean systems  8 - 12. Food  \\\n",
       "2                     0.0           0.0   \n",
       "5                     0.0           0.0   \n",
       "10                    0.0           0.0   \n",
       "11                    0.0           0.0   \n",
       "13                    0.0           0.0   \n",
       "\n",
       "    8 - 13. Human settlements, industry and infrastructure  \\\n",
       "2                                                 0.0        \n",
       "5                                                 0.0        \n",
       "10                                                0.0        \n",
       "11                                                0.0        \n",
       "13                                                0.0        \n",
       "\n",
       "    8 - 14. Human health, well-being and security  8 - 15. Cross-sectoral  \\\n",
       "2                                             0.0                     NaN   \n",
       "5                                             0.0                     NaN   \n",
       "10                                            0.0                     0.0   \n",
       "11                                            0.0                     NaN   \n",
       "13                                            0.0                     NaN   \n",
       "\n",
       "    9 - 0. Ex-post  9 - 1. Ex-ante  9 - 2. Ex-ante (IAM)  INCLUDE  random  \n",
       "2              1.0             0.0                   0.0      1.0       0  \n",
       "5              1.0             NaN                   0.0      1.0       0  \n",
       "10             0.0             1.0                   0.0      1.0       0  \n",
       "11             0.0             1.0                   0.0      1.0       0  \n",
       "13             0.0             0.0                   0.0      1.0       0  \n",
       "\n",
       "[5 rows x 104 columns]"
      ]
     },
     "execution_count": 39,
     "metadata": {},
     "output_type": "execute_result"
    }
   ],
   "source": [
    "df = pd.read_csv('data/0_labelled_documents.csv')\n",
    "df = df[df['INCLUDE']==1]\n",
    "print(df.shape)\n",
    "df.head()"
   ]
  },
  {
   "cell_type": "code",
   "execution_count": 40,
   "metadata": {},
   "outputs": [
    {
     "data": {
      "text/plain": [
       "['3 - 1. Analysis of an existing policy / concrete proposal',\n",
       " '3 - 2. Analysis of a generic policy',\n",
       " '3 - 3. Broader governance and policy']"
      ]
     },
     "execution_count": 40,
     "metadata": {},
     "output_type": "execute_result"
    },
    {
     "data": {
      "image/png": "[encoded data removed]",
      "text/plain": [
       "<Figure size 432x288 with 1 Axes>"
      ]
     },
     "metadata": {
      "needs_background": "light"
     },
     "output_type": "display_data"
    }
   ],
   "source": [
    "policy = [x for x in df.columns if re.match(\"^3 - \",x) and \"Not policy\" not in x]\n",
    "\n",
    "fig, ax = plt.subplots()\n",
    "for i,x in enumerate(policy):\n",
    "    ax.barh(i, df[x].sum())\n",
    "    \n",
    "ax.set_yticks(range(len(policy)))\n",
    "ax.set_yticklabels(policy)\n",
    "policy"
   ]
  },
  {
   "cell_type": "code",
   "execution_count": 61,
   "metadata": {},
   "outputs": [
    {
     "data": {
      "text/plain": [
       "[4, 7, 4, 3, 2]"
      ]
     },
     "execution_count": 61,
     "metadata": {},
     "output_type": "execute_result"
    }
   ],
   "source": [
    "p1 = [x for x in df.columns if re.match(\"^4 - \",x) and \"Not policy\" not in x]\n",
    "p2 = [x for x in df.columns if re.match(\"^5 - \",x) and \"Not policy\" not in x]\n",
    "hrs = []\n",
    "for i in range(len(p1)):\n",
    "    hrs.append(len([x for x in p2 if f\"- {i+1}.\" in x]))\n",
    "    \n",
    "hrs"
   ]
  },
  {
   "cell_type": "code",
   "execution_count": 64,
   "metadata": {},
   "outputs": [
    {
     "name": "stdout",
     "output_type": "stream",
     "text": [
      "['4 - 1. Economic instruments', '4 - 2. Regulatory Instruments', '4 - 3. Information, education and training', '4 - 4. Governance, strategies and targets', '4 - 5. Agreements']\n"
     ]
    },
    {
     "data": {
      "image/png": "[encoded data removed]",
      "text/plain": [
       "<Figure size 532.8x864 with 5 Axes>"
      ]
     },
     "metadata": {
      "needs_background": "light"
     },
     "output_type": "display_data"
    }
   ],
   "source": [
    "\n",
    "\n",
    "print(p1)\n",
    "\n",
    "fig, axs = plt.subplots(len(p1), figsize=(7.4,12),gridspec_kw={'height_ratios': hrs},sharex=True)\n",
    "for i,x in enumerate(p1):\n",
    "    ax = axs[i]\n",
    "    cindex = x.split(\". \")[0].replace(\"4 -\",\"5 -\") + \".\"\n",
    "    p2sub = [p for p in p2 if cindex in p]\n",
    "    \n",
    "    l = 0\n",
    "    for j,p in enumerate(p2sub):\n",
    "        n =  df[p].astype(\"float\").sum()\n",
    "        ax.barh(j, n, left=l)\n",
    "        l+=n\n",
    "    \n",
    "    ax.set_yticks(range(len(p2sub)))\n",
    "    ax.set_yticklabels(p2sub)"
   ]
  },
  {
   "cell_type": "code",
   "execution_count": 55,
   "metadata": {},
   "outputs": [
    {
     "data": {
      "text/plain": [
       "'4 - 5.'"
      ]
     },
     "execution_count": 55,
     "metadata": {},
     "output_type": "execute_result"
    }
   ],
   "source": [
    "cindex"
   ]
  },
  {
   "cell_type": "code",
   "execution_count": 52,
   "metadata": {},
   "outputs": [
    {
     "data": {
      "text/plain": [
       "['5 - 1.02. Carbon pricing',\n",
       " '5 - 1.02. Subsidies',\n",
       " '5 - 1.03. Non-carbon taxes',\n",
       " '5 - 1.04. Direct Investment / spending',\n",
       " '5 - 2.05. Trade policy',\n",
       " '5 - 2.06. Quotas',\n",
       " '5 - 2.07. Regulation on transactions',\n",
       " '5 - 2.08. Information requirements',\n",
       " '5 - 2.09. Spatial and land-use planning',\n",
       " '5 - 2.10. Other regulation',\n",
       " '5 - 2.11. Standards',\n",
       " '5 - 3.12. Public Information/awareness campaigns',\n",
       " '5 - 3.13. Behavioural interventions',\n",
       " '5 - 3.14. Education and training',\n",
       " '5 - 3.15. Publication of data / analysis',\n",
       " '5 - 4.16. Planning',\n",
       " '5 - 4.17. Government administration & management',\n",
       " '5 - 4.18. Institutions',\n",
       " '5 - 5.19. Domestic agreements',\n",
       " '5 - 5.20. Inter/transnational agreements']"
      ]
     },
     "execution_count": 52,
     "metadata": {},
     "output_type": "execute_result"
    }
   ],
   "source": [
    "p2"
   ]
  }
 ],
 "metadata": {
  "kernelspec": {
   "display_name": "Python 3",
   "language": "python",
   "name": "python3"
  },
  "language_info": {
   "codemirror_mode": {
    "name": "ipython",
    "version": 3
   },
   "file_extension": ".py",
   "mimetype": "text/x-python",
   "name": "python",
   "nbconvert_exporter": "python",
   "pygments_lexer": "ipython3",
   "version": "3.6.9"
  }
 },
 "nbformat": 4,
 "nbformat_minor": 4
}
